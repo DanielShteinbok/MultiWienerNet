{
 "cells": [
  {
   "cell_type": "markdown",
   "id": "2b86e1c5",
   "metadata": {},
   "source": [
    "# Master matrix test\n",
    "This is a notebook to quickly give you an idea of how your master matrix is performing; does it work the way that you expect?"
   ]
  },
  {
   "cell_type": "code",
   "execution_count": null,
   "id": "2dc83c78",
   "metadata": {},
   "outputs": [],
   "source": []
  }
 ],
 "metadata": {
  "kernelspec": {
   "display_name": "Python 3 (ipykernel)",
   "language": "python",
   "name": "python3"
  },
  "language_info": {
   "codemirror_mode": {
    "name": "ipython",
    "version": 3
   },
   "file_extension": ".py",
   "mimetype": "text/x-python",
   "name": "python",
   "nbconvert_exporter": "python",
   "pygments_lexer": "ipython3",
   "version": "3.9.16"
  }
 },
 "nbformat": 4,
 "nbformat_minor": 5
}
