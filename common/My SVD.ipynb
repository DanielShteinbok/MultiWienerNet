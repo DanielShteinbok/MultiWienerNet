{
 "cells": [
  {
   "cell_type": "code",
   "execution_count": 1,
   "id": "bedf7178",
   "metadata": {},
   "outputs": [],
   "source": [
    "#from csv_psfs import *\n",
    "import svd_model as svm\n",
    "\n",
    "import forward_model as fm\n",
    "\n",
    "import numpy as np\n",
    "import scipy.io\n",
    "\n",
    "# for a bit of investigation into the process surrounding the SVD\n",
    "#import pdb\n",
    "from IPython.core.debugger import set_trace\n",
    "\n",
    "# load my own module for loading the PSFs\n",
    "import sys\n",
    "sys.path.append(\"../tensorflow\")\n",
    "import load_PSFs"
   ]
  },
  {
   "cell_type": "markdown",
   "id": "2b10daef",
   "metadata": {},
   "source": [
    "# My SVD\n",
    "Grab the PSF stack, do the SVD, test on the hydra. Simple as."
   ]
  },
  {
   "cell_type": "code",
   "execution_count": 2,
   "id": "cf95912c",
   "metadata": {},
   "outputs": [],
   "source": [
    "psf_directory = \"/home/dshteinbok/nV3_PSFs\"\n",
    "psf_meta = \"/home/dshteinbok/nV3_PSFs_meta/PSF_Shifts.csv\"\n",
    "# TODO: where to save\n",
    "\n",
    "# (height, width)\n",
    "#img_dims = (800, 1280)\n",
    "\n",
    "# ACTUALLY should be (width, height) to be compatible with load_PSFs\n",
    "img_dims = (1280, 800)"
   ]
  },
  {
   "cell_type": "code",
   "execution_count": 3,
   "id": "1d545d7a",
   "metadata": {},
   "outputs": [
    {
     "name": "stdout",
     "output_type": "stream",
     "text": [
      "caught error\n",
      "caught error\n",
      "caught error\n",
      "caught error\n",
      "caught error\n",
      "caught error\n",
      "caught error\n",
      "caught error\n",
      "caught error\n",
      "caught error\n",
      "caught error\n",
      "caught error\n",
      "caught error\n",
      "caught error\n"
     ]
    }
   ],
   "source": [
    "# load the PSFs\n",
    "#psfs = pad_as_center(load_from_dir(psf_directory), img_dims[0], img_dims[1])\n",
    "psfs = load_PSFs.load_PSFs_csv(psf_directory, psf_meta, img_dims)[:,:,:,0]"
   ]
  },
  {
   "cell_type": "markdown",
   "id": "682260d8",
   "metadata": {},
   "source": [
    "**ERROR DISCOVERED IN WALLER PAPER:** Waller et al. basically use the location of the brightest point in each of the PSFs to interpolate the PSF for all other points (specifically they interpolate the weights by which they must multiply each \"kernel\" for all points from the ones that they observe). However, they actually have all their PSFs centered in the frame, so all but one of their PSFs are in the center. The other PSF is (1,1) away from the center. Thus, all points within any quadrant exhibit shift-invariance.\n",
    "\n",
    "To solve this, you need to be careful about how you pad your PSF. You don't want it to be in the center, but rather you want it shifted to wherever the light ends up.\n",
    "\n",
    "In our case, according to the spec, this should be 1 pixel for every 0.8 um. "
   ]
  },
  {
   "cell_type": "code",
   "execution_count": 4,
   "id": "3f4259ae",
   "metadata": {},
   "outputs": [
    {
     "name": "stdout",
     "output_type": "stream",
     "text": [
      "--Return--\n",
      "None\n",
      "> \u001b[0;32m/tmp/ipykernel_3432064/573455527.py\u001b[0m(2)\u001b[0;36m<cell line: 2>\u001b[0;34m()\u001b[0m\n",
      "\u001b[0;32m      1 \u001b[0;31m\u001b[0mref_image_index\u001b[0m\u001b[0;34m=\u001b[0m\u001b[0;36m4\u001b[0m\u001b[0;34m\u001b[0m\u001b[0;34m\u001b[0m\u001b[0m\n",
      "\u001b[0m\u001b[0;32m----> 2 \u001b[0;31m\u001b[0mset_trace\u001b[0m\u001b[0;34m(\u001b[0m\u001b[0;34m)\u001b[0m\u001b[0;34m\u001b[0m\u001b[0;34m\u001b[0m\u001b[0m\n",
      "\u001b[0m\u001b[0;32m      3 \u001b[0;31m\u001b[0mpsfs_reg\u001b[0m\u001b[0;34m,\u001b[0m\u001b[0mshifts\u001b[0m\u001b[0;34m=\u001b[0m\u001b[0msvm\u001b[0m\u001b[0;34m.\u001b[0m\u001b[0mregister_psfs\u001b[0m\u001b[0;34m(\u001b[0m\u001b[0mpsfs\u001b[0m\u001b[0;34m,\u001b[0m \u001b[0mpsfs\u001b[0m\u001b[0;34m[\u001b[0m\u001b[0;34m:\u001b[0m\u001b[0;34m,\u001b[0m\u001b[0;34m:\u001b[0m\u001b[0;34m,\u001b[0m\u001b[0mref_image_index\u001b[0m\u001b[0;34m]\u001b[0m\u001b[0;34m,\u001b[0m\u001b[0mdct_on\u001b[0m\u001b[0;34m=\u001b[0m\u001b[0;32mTrue\u001b[0m\u001b[0;34m)\u001b[0m\u001b[0;34m\u001b[0m\u001b[0;34m\u001b[0m\u001b[0m\n",
      "\u001b[0m\n",
      "ipdb> c\n",
      "Removing background\n",
      "\n",
      "done\n",
      "\n",
      "registering\n",
      "\n",
      "done registering\n",
      "\n"
     ]
    }
   ],
   "source": [
    "ref_image_index=4\n",
    "set_trace()\n",
    "psfs_reg,shifts=svm.register_psfs(psfs, psfs[:,:,ref_image_index],dct_on=True)"
   ]
  },
  {
   "cell_type": "code",
   "execution_count": 5,
   "id": "06a34510",
   "metadata": {},
   "outputs": [
    {
     "name": "stdout",
     "output_type": "stream",
     "text": [
      "creating matrix\n",
      "\n",
      "done\n",
      "\n",
      "starting svd...\n",
      "\n",
      "check values of ymat\n",
      "interpolating...\n",
      "\n",
      "done\n",
      "\n",
      "\n"
     ]
    }
   ],
   "source": [
    "rank=12\n",
    "comps, weights_interp=svm.calc_svd(psfs_reg,shifts,rank)"
   ]
  },
  {
   "cell_type": "code",
   "execution_count": 6,
   "id": "73de2251",
   "metadata": {},
   "outputs": [],
   "source": [
    "# Normalize weights to have maximum sum through rank of 1\n",
    "weights_norm = np.sum(weights_interp[weights_interp.shape[0]//2-1,weights_interp.shape[1]//2-1,:],0).max()\n",
    "weights = weights_interp/weights_norm;\n",
    "\n",
    "#normalize by norm of all stack. Can also try normalizing by max of all stack or by norm of each slice\n",
    "h=comps/np.linalg.norm(np.ravel(comps))"
   ]
  },
  {
   "cell_type": "code",
   "execution_count": 7,
   "id": "d0f7c20a",
   "metadata": {},
   "outputs": [
    {
     "data": {
      "text/plain": [
       "(800, 1280, 12)"
      ]
     },
     "execution_count": 7,
     "metadata": {},
     "output_type": "execute_result"
    }
   ],
   "source": [
    "h.shape"
   ]
  },
  {
   "cell_type": "code",
   "execution_count": 8,
   "id": "e9d909cb",
   "metadata": {},
   "outputs": [
    {
     "data": {
      "text/plain": [
       "(800, 1280, 12)"
      ]
     },
     "execution_count": 8,
     "metadata": {},
     "output_type": "execute_result"
    }
   ],
   "source": [
    "weights.shape"
   ]
  },
  {
   "cell_type": "code",
   "execution_count": 9,
   "id": "59017c29",
   "metadata": {},
   "outputs": [],
   "source": [
    "h_dict = {\"array_out\": h}\n",
    "scipy.io.savemat(\"../data/nV3_h.mat\", h_dict)"
   ]
  },
  {
   "cell_type": "code",
   "execution_count": 10,
   "id": "382ec738",
   "metadata": {},
   "outputs": [],
   "source": [
    "weights_dict = {\"array_out\": weights}\n",
    "scipy.io.savemat(\"../data/nV3_weights.mat\", weights_dict)"
   ]
  },
  {
   "cell_type": "markdown",
   "id": "c0d92ebe",
   "metadata": {},
   "source": [
    "Now, view each of the PSFs at the 12 positions:"
   ]
  },
  {
   "cell_type": "code",
   "execution_count": null,
   "id": "c268bbe1",
   "metadata": {},
   "outputs": [],
   "source": []
  }
 ],
 "metadata": {
  "kernelspec": {
   "display_name": "Python 3 (ipykernel)",
   "language": "python",
   "name": "python3"
  },
  "language_info": {
   "codemirror_mode": {
    "name": "ipython",
    "version": 3
   },
   "file_extension": ".py",
   "mimetype": "text/x-python",
   "name": "python",
   "nbconvert_exporter": "python",
   "pygments_lexer": "ipython3",
   "version": "3.9.13"
  }
 },
 "nbformat": 4,
 "nbformat_minor": 5
}
