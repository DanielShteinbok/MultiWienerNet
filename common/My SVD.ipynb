{
 "cells": [
  {
   "cell_type": "code",
   "execution_count": 1,
   "id": "bedf7178",
   "metadata": {},
   "outputs": [],
   "source": [
    "from csv_psfs import *\n",
    "import svd_model as svm\n",
    "\n",
    "import forward_model as fm\n",
    "\n",
    "import numpy as np\n",
    "import scipy.io\n",
    "\n",
    "# for a bit of investigation into the process surrounding the SVD\n",
    "#import pdb\n",
    "from IPython.core.debugger import set_trace\n",
    "\n",
    "# load my own module for loading the PSFs\n",
    "import sys\n",
    "sys.path.append(\"../tensorflow\")\n",
    "import load_PSFs"
   ]
  },
  {
   "cell_type": "markdown",
   "id": "2b10daef",
   "metadata": {},
   "source": [
    "# My SVD\n",
    "Grab the PSF stack, do the SVD, test on the hydra. Simple as."
   ]
  },
  {
   "cell_type": "code",
   "execution_count": 2,
   "id": "cf95912c",
   "metadata": {},
   "outputs": [],
   "source": [
    "psf_directory = \"/home/dshteinbok/nV3_PSFs\"\n",
    "psf_meta = \"/home/dshteinbok/nV3_PSFs_meta/PSF_Shifts.csv\"\n",
    "# TODO: where to save\n",
    "\n",
    "# (height, width)\n",
    "#img_dims = (800, 1280)\n",
    "\n",
    "# ACTUALLY should be (width, height) to be compatible with load_PSFs\n",
    "#img_dims = (1280, 800)\n",
    "img_dims = (1280, 1280)"
   ]
  },
  {
   "cell_type": "code",
   "execution_count": 3,
   "id": "1d545d7a",
   "metadata": {},
   "outputs": [],
   "source": [
    "# load the PSFs\n",
    "#psfs = pad_as_center(load_from_dir(psf_directory), img_dims[0], img_dims[1])\n",
    "psfs = pad_as_center(load_from_dir(psf_directory), img_dims[1], img_dims[0])\n",
    "#psfs = load_PSFs.load_PSFs_csv(psf_directory, psf_meta, img_dims)[:,:,:,0]"
   ]
  },
  {
   "cell_type": "markdown",
   "id": "682260d8",
   "metadata": {},
   "source": [
    "**ERROR DISCOVERED IN WALLER PAPER:** Waller et al. basically use the location of the brightest point in each of the PSFs to interpolate the PSF for all other points (specifically they interpolate the weights by which they must multiply each \"kernel\" for all points from the ones that they observe). However, they actually have all their PSFs centered in the frame, so all but one of their PSFs are in the center. The other PSF is (1,1) away from the center. Thus, all points within any quadrant exhibit shift-invariance.\n",
    "\n",
    "To solve this, you need to be careful about how you pad your PSF. You don't want it to be in the center, but rather you want it shifted to wherever the light ends up.\n",
    "\n",
    "In our case, according to the spec, this should be 1 pixel for every 0.8 um. "
   ]
  },
  {
   "cell_type": "code",
   "execution_count": 4,
   "id": "3f4259ae",
   "metadata": {},
   "outputs": [
    {
     "name": "stdout",
     "output_type": "stream",
     "text": [
      "--Return--\n",
      "None\n",
      "> \u001b[0;32m/tmp/ipykernel_3447615/983313562.py\u001b[0m(2)\u001b[0;36m<cell line: 2>\u001b[0;34m()\u001b[0m\n",
      "\u001b[0;32m      1 \u001b[0;31m\u001b[0mref_image_index\u001b[0m\u001b[0;34m=\u001b[0m\u001b[0;36m23\u001b[0m\u001b[0;34m\u001b[0m\u001b[0;34m\u001b[0m\u001b[0m\n",
      "\u001b[0m\u001b[0;32m----> 2 \u001b[0;31m\u001b[0mset_trace\u001b[0m\u001b[0;34m(\u001b[0m\u001b[0;34m)\u001b[0m\u001b[0;34m\u001b[0m\u001b[0;34m\u001b[0m\u001b[0m\n",
      "\u001b[0m\u001b[0;32m      3 \u001b[0;31m\u001b[0mpsfs_reg\u001b[0m\u001b[0;34m,\u001b[0m\u001b[0mshifts\u001b[0m\u001b[0;34m=\u001b[0m\u001b[0msvm\u001b[0m\u001b[0;34m.\u001b[0m\u001b[0mregister_psfs\u001b[0m\u001b[0;34m(\u001b[0m\u001b[0mpsfs\u001b[0m\u001b[0;34m,\u001b[0m \u001b[0mpsfs\u001b[0m\u001b[0;34m[\u001b[0m\u001b[0;34m:\u001b[0m\u001b[0;34m,\u001b[0m\u001b[0;34m:\u001b[0m\u001b[0;34m,\u001b[0m\u001b[0mref_image_index\u001b[0m\u001b[0;34m]\u001b[0m\u001b[0;34m,\u001b[0m\u001b[0mdct_on\u001b[0m\u001b[0;34m=\u001b[0m\u001b[0;32mTrue\u001b[0m\u001b[0;34m)\u001b[0m\u001b[0;34m\u001b[0m\u001b[0;34m\u001b[0m\u001b[0m\n",
      "\u001b[0m\n",
      "ipdb> c\n",
      "Removing background\n",
      "\n",
      "done\n",
      "\n",
      "registering\n",
      "\n",
      "done registering\n",
      "\n"
     ]
    }
   ],
   "source": [
    "ref_image_index=23\n",
    "set_trace()\n",
    "psfs_reg,shifts=svm.register_psfs(psfs, psfs[:,:,ref_image_index],dct_on=True)"
   ]
  },
  {
   "cell_type": "code",
   "execution_count": 5,
   "id": "2e32c448",
   "metadata": {},
   "outputs": [
    {
     "data": {
      "text/plain": [
       "{0: [2, 1],\n",
       " 1: [3, 0],\n",
       " 2: [2, 0],\n",
       " 3: [2, -1],\n",
       " 4: [1, 0],\n",
       " 5: [1, 0],\n",
       " 6: [2, 0],\n",
       " 7: [1, -1],\n",
       " 8: [3, 0],\n",
       " 9: [3, 0],\n",
       " 10: [3, 1],\n",
       " 11: [3, 1],\n",
       " 12: [2, 1],\n",
       " 13: [3, 1],\n",
       " 14: [3, -1],\n",
       " 15: [1, 0],\n",
       " 16: [3, 0],\n",
       " 17: [2, 0],\n",
       " 18: [3, -1],\n",
       " 19: [2, -1],\n",
       " 20: [2, -1],\n",
       " 21: [2, 1],\n",
       " 22: [2, 1],\n",
       " 23: [1, 1],\n",
       " 24: [1, 1],\n",
       " 25: [2, 1],\n",
       " 26: [1, 1],\n",
       " 27: [1, -1],\n",
       " 28: [1, 0]}"
      ]
     },
     "execution_count": 5,
     "metadata": {},
     "output_type": "execute_result"
    }
   ],
   "source": [
    "shifts"
   ]
  },
  {
   "cell_type": "code",
   "execution_count": 6,
   "id": "a4fce2b1",
   "metadata": {},
   "outputs": [],
   "source": [
    "metaman = load_PSFs.MetaMan(psf_meta)"
   ]
  },
  {
   "cell_type": "code",
   "execution_count": 7,
   "id": "06a34510",
   "metadata": {},
   "outputs": [
    {
     "name": "stdout",
     "output_type": "stream",
     "text": [
      "creating matrix\n",
      "\n",
      "done\n",
      "\n",
      "starting svd...\n",
      "\n",
      "check values of ymat\n",
      "interpolating...\n",
      "\n",
      "done\n",
      "\n",
      "\n"
     ]
    }
   ],
   "source": [
    "rank=28\n",
    "#comps, weights_interp=svm.calc_svd(psfs_reg,metaman.shifts,rank)\n",
    "comps, weights_interp=svm.calc_svd(psfs_reg,shifts,rank)"
   ]
  },
  {
   "cell_type": "code",
   "execution_count": 8,
   "id": "ba884522",
   "metadata": {},
   "outputs": [
    {
     "data": {
      "text/plain": [
       "{1: [250, 0],\n",
       " 2: [500, 0],\n",
       " 3: [750, 0],\n",
       " 4: [250, -250],\n",
       " 5: [500, -250],\n",
       " 6: [250, -500],\n",
       " 7: [500, -500],\n",
       " 8: [250, 250],\n",
       " 9: [500, 250],\n",
       " 10: [250, 500],\n",
       " 11: [500, 500],\n",
       " 12: [-250, 0],\n",
       " 13: [-500, 0],\n",
       " 14: [-750, 0],\n",
       " 15: [-250, -250],\n",
       " 16: [-500, -250],\n",
       " 17: [-250, -500],\n",
       " 18: [-500, -500],\n",
       " 19: [-250, 250],\n",
       " 20: [-500, 250],\n",
       " 21: [-250, 500],\n",
       " 22: [-500, 500],\n",
       " 23: [0, 0],\n",
       " 24: [0, 250],\n",
       " 25: [0, 500],\n",
       " 26: [0, 750],\n",
       " 27: [0, -250],\n",
       " 28: [0, -500],\n",
       " 29: [0, -750]}"
      ]
     },
     "execution_count": 8,
     "metadata": {},
     "output_type": "execute_result"
    }
   ],
   "source": [
    "metaman.shifts"
   ]
  },
  {
   "cell_type": "code",
   "execution_count": 9,
   "id": "73de2251",
   "metadata": {},
   "outputs": [],
   "source": [
    "# Normalize weights to have maximum sum through rank of 1\n",
    "weights_norm = np.sum(weights_interp[weights_interp.shape[0]//2-1,weights_interp.shape[1]//2-1,:],0).max()\n",
    "weights = weights_interp/weights_norm;\n",
    "\n",
    "#normalize by norm of all stack. Can also try normalizing by max of all stack or by norm of each slice\n",
    "h=comps/np.linalg.norm(np.ravel(comps))"
   ]
  },
  {
   "cell_type": "code",
   "execution_count": 10,
   "id": "d0f7c20a",
   "metadata": {},
   "outputs": [
    {
     "data": {
      "text/plain": [
       "(1280, 1280, 28)"
      ]
     },
     "execution_count": 10,
     "metadata": {},
     "output_type": "execute_result"
    }
   ],
   "source": [
    "h.shape"
   ]
  },
  {
   "cell_type": "code",
   "execution_count": 11,
   "id": "e9d909cb",
   "metadata": {},
   "outputs": [
    {
     "data": {
      "text/plain": [
       "(1280, 1280, 28)"
      ]
     },
     "execution_count": 11,
     "metadata": {},
     "output_type": "execute_result"
    }
   ],
   "source": [
    "weights.shape"
   ]
  },
  {
   "cell_type": "code",
   "execution_count": 12,
   "id": "59017c29",
   "metadata": {},
   "outputs": [],
   "source": [
    "h_dict = {\"array_out\": h}\n",
    "scipy.io.savemat(\"../data/nV3_h.mat\", h_dict)"
   ]
  },
  {
   "cell_type": "code",
   "execution_count": 13,
   "id": "382ec738",
   "metadata": {},
   "outputs": [],
   "source": [
    "weights_dict = {\"array_out\": weights}\n",
    "scipy.io.savemat(\"../data/nV3_weights.mat\", weights_dict)"
   ]
  },
  {
   "cell_type": "markdown",
   "id": "dc840ea4",
   "metadata": {},
   "source": [
    "Now, view each of the PSFs at the 12 positions:"
   ]
  },
  {
   "cell_type": "code",
   "execution_count": 14,
   "id": "6e81d3e5",
   "metadata": {},
   "outputs": [
    {
     "data": {
      "text/plain": [
       "(1280, 1280, 29)"
      ]
     },
     "execution_count": 14,
     "metadata": {},
     "output_type": "execute_result"
    }
   ],
   "source": [
    "psfs_reg.shape"
   ]
  },
  {
   "cell_type": "code",
   "execution_count": 15,
   "id": "ad45ba21",
   "metadata": {},
   "outputs": [
    {
     "name": "stdout",
     "output_type": "stream",
     "text": [
      "(642, 640)\n",
      "(642, 640)\n",
      "(642, 640)\n",
      "(642, 640)\n",
      "(642, 640)\n",
      "(642, 640)\n",
      "(642, 640)\n",
      "(642, 640)\n",
      "(642, 640)\n",
      "(642, 640)\n",
      "(642, 640)\n",
      "(642, 640)\n"
     ]
    },
    {
     "data": {
      "image/png": "[encoded data removed]",
      "text/plain": [
       "<Figure size 1500x1500 with 12 Axes>"
      ]
     },
     "metadata": {},
     "output_type": "display_data"
    }
   ],
   "source": [
    "import matplotlib.pyplot as plt\n",
    "fig, axs = plt.subplots(3, 4, figsize=(15,15))\n",
    "for row in range(3):\n",
    "    for column in range(4):\n",
    "        axs[row, column].imshow(psfs_reg[140:160,380:400,row*column])\n",
    "        print(np.unravel_index(np.argmax(psfs_reg[:,:,row*column]), (800,1280)))"
   ]
  },
  {
   "cell_type": "code",
   "execution_count": 16,
   "id": "e7087237",
   "metadata": {},
   "outputs": [
    {
     "data": {
      "text/plain": [
       "(1280, 1280, 28)"
      ]
     },
     "execution_count": 16,
     "metadata": {},
     "output_type": "execute_result"
    }
   ],
   "source": [
    "h.shape"
   ]
  },
  {
   "cell_type": "code",
   "execution_count": 17,
   "id": "f8ce7c29",
   "metadata": {},
   "outputs": [
    {
     "data": {
      "text/plain": [
       "(1280, 1280, 28)"
      ]
     },
     "execution_count": 17,
     "metadata": {},
     "output_type": "execute_result"
    }
   ],
   "source": [
    "weights.shape"
   ]
  }
 ],
 "metadata": {
  "kernelspec": {
   "display_name": "Python 3 (ipykernel)",
   "language": "python",
   "name": "python3"
  },
  "language_info": {
   "codemirror_mode": {
    "name": "ipython",
    "version": 3
   },
   "file_extension": ".py",
   "mimetype": "text/x-python",
   "name": "python",
   "nbconvert_exporter": "python",
   "pygments_lexer": "ipython3",
   "version": "3.9.13"
  }
 },
 "nbformat": 4,
 "nbformat_minor": 5
}
