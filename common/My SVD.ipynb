{
 "cells": [
  {
   "cell_type": "code",
   "execution_count": 1,
   "id": "bedf7178",
   "metadata": {},
   "outputs": [],
   "source": [
    "from csv_psfs import *\n",
    "import svd_model as svm\n",
    "\n",
    "import forward_model as fm\n",
    "\n",
    "import numpy as np\n",
    "import scipy.io"
   ]
  },
  {
   "cell_type": "markdown",
   "id": "2b10daef",
   "metadata": {},
   "source": [
    "# My SVD\n",
    "Grab the PSF stack, do the SVD, test on the hydra. Simple as."
   ]
  },
  {
   "cell_type": "code",
   "execution_count": 2,
   "id": "cf95912c",
   "metadata": {},
   "outputs": [],
   "source": [
    "psf_directory = \"/home/dshteinbok/nV3_PSFs\"\n",
    "# TODO: where to save\n",
    "\n",
    "img_dims = (486, 648)"
   ]
  },
  {
   "cell_type": "code",
   "execution_count": 3,
   "id": "1d545d7a",
   "metadata": {},
   "outputs": [],
   "source": [
    "# load the PSFs\n",
    "psfs = pad_as_center(load_from_dir(psf_directory), img_dims[0], img_dims[1])"
   ]
  },
  {
   "cell_type": "code",
   "execution_count": 4,
   "id": "3f4259ae",
   "metadata": {},
   "outputs": [
    {
     "name": "stdout",
     "output_type": "stream",
     "text": [
      "Removing background\n",
      "\n",
      "done\n",
      "\n",
      "registering\n",
      "\n",
      "done registering\n",
      "\n"
     ]
    }
   ],
   "source": [
    "ref_image_index=4\n",
    "psfs_reg,shifts=svm.register_psfs(psfs, psfs[:,:,ref_image_index],dct_on=True)"
   ]
  },
  {
   "cell_type": "code",
   "execution_count": 5,
   "id": "06a34510",
   "metadata": {},
   "outputs": [
    {
     "name": "stdout",
     "output_type": "stream",
     "text": [
      "creating matrix\n",
      "\n",
      "done\n",
      "\n",
      "starting svd...\n",
      "\n",
      "check values of ymat\n",
      "interpolating...\n",
      "\n",
      "done\n",
      "\n",
      "\n"
     ]
    }
   ],
   "source": [
    "rank=12\n",
    "comps, weights_interp=svm.calc_svd(psfs_reg,shifts,rank)"
   ]
  },
  {
   "cell_type": "code",
   "execution_count": 6,
   "id": "73de2251",
   "metadata": {},
   "outputs": [],
   "source": [
    "# Normalize weights to have maximum sum through rank of 1\n",
    "weights_norm = np.sum(weights_interp[weights_interp.shape[0]//2-1,weights_interp.shape[1]//2-1,:],0).max()\n",
    "weights = weights_interp/weights_norm;\n",
    "\n",
    "#normalize by norm of all stack. Can also try normalizing by max of all stack or by norm of each slice\n",
    "h=comps/np.linalg.norm(np.ravel(comps))"
   ]
  },
  {
   "cell_type": "code",
   "execution_count": 9,
   "id": "d0f7c20a",
   "metadata": {},
   "outputs": [
    {
     "data": {
      "text/plain": [
       "(486, 648, 12)"
      ]
     },
     "execution_count": 9,
     "metadata": {},
     "output_type": "execute_result"
    }
   ],
   "source": [
    "h.shape"
   ]
  },
  {
   "cell_type": "code",
   "execution_count": 10,
   "id": "e9d909cb",
   "metadata": {},
   "outputs": [
    {
     "data": {
      "text/plain": [
       "(486, 648, 12)"
      ]
     },
     "execution_count": 10,
     "metadata": {},
     "output_type": "execute_result"
    }
   ],
   "source": [
    "weights.shape"
   ]
  },
  {
   "cell_type": "code",
   "execution_count": 7,
   "id": "59017c29",
   "metadata": {},
   "outputs": [],
   "source": [
    "h_dict = {\"array_out\": h}\n",
    "scipy.io.savemat(\"../data/nV3_h.mat\", h_dict)"
   ]
  },
  {
   "cell_type": "code",
   "execution_count": 11,
   "id": "382ec738",
   "metadata": {},
   "outputs": [],
   "source": [
    "weights_dict = {\"array_out\": weights}\n",
    "scipy.io.savemat(\"../data/nV3_weights.mat\", weights_dict)"
   ]
  },
  {
   "cell_type": "code",
   "execution_count": null,
   "id": "6987d782",
   "metadata": {},
   "outputs": [],
   "source": []
  }
 ],
 "metadata": {
  "kernelspec": {
   "display_name": "Python 3 (ipykernel)",
   "language": "python",
   "name": "python3"
  },
  "language_info": {
   "codemirror_mode": {
    "name": "ipython",
    "version": 3
   },
   "file_extension": ".py",
   "mimetype": "text/x-python",
   "name": "python",
   "nbconvert_exporter": "python",
   "pygments_lexer": "ipython3",
   "version": "3.9.13"
  }
 },
 "nbformat": 4,
 "nbformat_minor": 5
}
