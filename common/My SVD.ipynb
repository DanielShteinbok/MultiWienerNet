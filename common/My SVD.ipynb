{
 "cells": [
  {
   "cell_type": "code",
   "execution_count": 1,
   "id": "7f732054",
   "metadata": {},
   "outputs": [],
   "source": [
    "from csv_psfs import *\n",
    "import svd_model as svm\n",
    "\n",
    "import forward_model as fm"
   ]
  },
  {
   "cell_type": "markdown",
   "id": "b5c80d41",
   "metadata": {},
   "source": [
    "# My SVD\n",
    "Grab the PSF stack, do the SVD, test on the hydra. Simple as."
   ]
  },
  {
   "cell_type": "code",
   "execution_count": 2,
   "id": "f5eec2d8",
   "metadata": {},
   "outputs": [],
   "source": [
    "psf_directory = \"/home/dshteinbok/nV3_PSFs\"\n",
    "# TODO: where to save\n",
    "\n",
    "img_dims = (486, 648)"
   ]
  },
  {
   "cell_type": "code",
   "execution_count": 3,
   "id": "2974e394",
   "metadata": {},
   "outputs": [],
   "source": [
    "# load the PSFs\n",
    "psfs = pad_as_center(load_from_dir(psf_directory), img_dims[0], img_dims[1])"
   ]
  },
  {
   "cell_type": "code",
   "execution_count": 4,
   "id": "2c7002f0",
   "metadata": {},
   "outputs": [
    {
     "name": "stdout",
     "output_type": "stream",
     "text": [
      "Removing background\n",
      "\n",
      "done\n",
      "\n",
      "registering\n",
      "\n",
      "done registering\n",
      "\n"
     ]
    }
   ],
   "source": [
    "ref_image_index=4\n",
    "psfs_reg,shifts=svm.register_psfs(psfs, psfs[:,:,ref_image_index],dct_on=True)"
   ]
  },
  {
   "cell_type": "code",
   "execution_count": 5,
   "id": "684e3982",
   "metadata": {},
   "outputs": [
    {
     "name": "stdout",
     "output_type": "stream",
     "text": [
      "creating matrix\n",
      "\n",
      "done\n",
      "\n",
      "starting svd...\n",
      "\n",
      "check values of ymat\n",
      "interpolating...\n",
      "\n",
      "done\n",
      "\n",
      "\n"
     ]
    }
   ],
   "source": [
    "rank=4\n",
    "comps, weights_interp=svm.calc_svd(psfs_reg,shifts,rank)"
   ]
  }
 ],
 "metadata": {
  "kernelspec": {
   "display_name": "Python 3 (ipykernel)",
   "language": "python",
   "name": "python3"
  },
  "language_info": {
   "codemirror_mode": {
    "name": "ipython",
    "version": 3
   },
   "file_extension": ".py",
   "mimetype": "text/x-python",
   "name": "python",
   "nbconvert_exporter": "python",
   "pygments_lexer": "ipython3",
   "version": "3.9.13"
  }
 },
 "nbformat": 4,
 "nbformat_minor": 5
}
