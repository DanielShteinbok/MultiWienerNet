{
 "cells": [
  {
   "cell_type": "code",
   "execution_count": 21,
   "id": "74baba66",
   "metadata": {},
   "outputs": [],
   "source": [
    "import interp_test\n",
    "import sys\n",
    "sys.path.append(\"../tensorflow\")  \n",
    "import load_PSFs\n",
    "import pdb\n",
    "import matplotlib.pyplot as plt"
   ]
  },
  {
   "cell_type": "code",
   "execution_count": 2,
   "id": "e46eaed4",
   "metadata": {},
   "outputs": [],
   "source": [
    "psf_directory = \"/home/dshteinbok/nV3_PSFs_flat\"\n",
    "psf_meta = \"/home/dshteinbok/nV3_PSFs_flat_meta/metafile.csv\""
   ]
  },
  {
   "cell_type": "code",
   "execution_count": 3,
   "id": "dc11a6ac",
   "metadata": {},
   "outputs": [],
   "source": [
    "img_dims = (800, 1280)\n",
    "obj_dims = (640, 1024)\n",
    "metaman = load_PSFs.MetaMan(psf_meta) "
   ]
  },
  {
   "cell_type": "code",
   "execution_count": 4,
   "id": "167c05d6",
   "metadata": {},
   "outputs": [
    {
     "name": "stdout",
     "output_type": "stream",
     "text": [
      "creating matrix\n",
      "\n",
      "done\n",
      "\n",
      "starting svd...\n",
      "\n",
      "check values of ymat\n"
     ]
    }
   ],
   "source": [
    "# pdb.set_trace()\n",
    "h, weights, indices = interp_test.generate_unpadded_nointerp(psf_directory, img_dims, obj_dims, method=\"linear\")"
   ]
  },
  {
   "cell_type": "code",
   "execution_count": 5,
   "id": "f0ae3965",
   "metadata": {},
   "outputs": [
    {
     "data": {
      "text/plain": [
       "(32, 32, 28)"
      ]
     },
     "execution_count": 5,
     "metadata": {},
     "output_type": "execute_result"
    }
   ],
   "source": [
    "h.shape"
   ]
  },
  {
   "cell_type": "code",
   "execution_count": 6,
   "id": "4ec37861",
   "metadata": {},
   "outputs": [
    {
     "data": {
      "text/plain": [
       "(28, 29)"
      ]
     },
     "execution_count": 6,
     "metadata": {},
     "output_type": "execute_result"
    }
   ],
   "source": [
    "weights.shape"
   ]
  },
  {
   "cell_type": "code",
   "execution_count": 7,
   "id": "2ad086b5",
   "metadata": {},
   "outputs": [
    {
     "name": "stderr",
     "output_type": "stream",
     "text": [
      "ERROR:root:No traceback has been produced, nothing to debug.\n"
     ]
    }
   ],
   "source": [
    "%debug\n",
    "winterped = interp_test.interped_kernels(weights, indices, metaman, img_dims, obj_dims, method=\"linear\")"
   ]
  },
  {
   "cell_type": "code",
   "execution_count": 8,
   "id": "ea6e38cd",
   "metadata": {},
   "outputs": [
    {
     "data": {
      "text/plain": [
       "array([[ 1.88106181e+01, -1.15338386e+00,  2.74420283e-01,\n",
       "        -6.83180742e+00, -6.72398412e+00,  6.40400074e+00,\n",
       "         1.18583049e-01, -9.37333542e-01,  1.83428498e+00,\n",
       "         3.11464339e+01, -2.26641339e+00, -9.63750985e-01,\n",
       "        -1.13453125e+00, -8.90088285e-01,  1.17730639e-01,\n",
       "         2.56218305e+03, -1.32649877e+03,  7.94965005e+00,\n",
       "         3.03162144e-01, -4.62561534e+02, -3.34857872e+01,\n",
       "        -1.53978575e+00, -9.94039634e-01, -1.01179259e+00,\n",
       "        -1.00271395e+00, -9.36723694e-01, -1.04221176e+00,\n",
       "        -7.03120133e-01, -9.11948343e-01],\n",
       "       [ 8.94989466e-01, -9.19901595e-01, -8.34292196e-01,\n",
       "        -1.46733842e+01, -2.05663807e+01,  4.72887904e+00,\n",
       "         1.07299734e+02, -6.53749541e-01, -2.56870924e+00,\n",
       "        -2.20571881e+00,  4.90828328e+00, -1.04575536e+00,\n",
       "        -9.91311883e-01, -1.05698910e+00, -9.80138655e-01,\n",
       "         3.27381428e+00, -4.42120758e+00, -2.01291975e+00,\n",
       "        -9.84570416e-01, -1.84282270e+01, -2.01735751e+00,\n",
       "        -1.11431619e+00,  2.69828608e-01,  2.34060176e+00,\n",
       "        -6.01741576e+00,  5.46077417e+00, -9.37636800e-01,\n",
       "         1.54161307e+01,  2.99805603e+00],\n",
       "       [ 3.32363659e+01, -4.26328465e+00,  1.82523784e+00,\n",
       "        -1.08598004e+02, -1.99644308e+00, -5.61877392e+00,\n",
       "        -7.86732552e+00, -1.03230208e+00, -7.45817916e-01,\n",
       "         1.49906647e-01,  1.15422448e+01, -1.00034870e+00,\n",
       "        -5.12300163e+00, -1.21313226e+00, -8.86022087e-01,\n",
       "         2.78361190e+01,  1.63858563e+01,  5.56685767e+01,\n",
       "        -9.69588511e-01,  6.84743986e+00, -1.39793090e+00,\n",
       "        -4.50767106e-01, -1.13995995e+00, -5.17212670e+00,\n",
       "        -9.97999867e-01, -1.51086519e+00, -8.90726504e-01,\n",
       "         3.45689567e+01, -3.24413241e+00],\n",
       "       [ 5.66252998e+00, -2.17644142e+00, -1.32884311e+00,\n",
       "        -3.17589928e+00, -2.31270314e-01, -6.08452242e+00,\n",
       "        -1.14977314e+00, -2.59672273e+00, -1.21513604e+00,\n",
       "         1.23816645e+01,  3.61995440e+00, -9.95416547e-01,\n",
       "        -2.14083993e+01, -6.56677710e-01, -1.10110092e+00,\n",
       "        -4.25530166e+00, -4.19341935e+01, -7.96417175e+00,\n",
       "         7.96425740e-01, -4.39715595e+00,  1.28740903e+00,\n",
       "        -4.91244793e+00, -9.12821943e-01,  1.12177787e+00,\n",
       "        -1.01689793e+00, -1.05480864e+00,  6.66475249e-01,\n",
       "        -4.69480369e+00, -1.55049225e+00],\n",
       "       [-2.47835315e+00, -2.23220766e+00, -1.02458009e+00,\n",
       "        -6.26036296e+00, -1.14547238e+00,  1.49266900e+02,\n",
       "        -1.23349652e+00, -1.85599271e+00, -2.36269182e+00,\n",
       "         1.39012516e+00,  1.39341206e+01, -1.03360826e+00,\n",
       "        -2.45882804e+00, -1.00373068e+00,  1.25571171e+00,\n",
       "        -2.24839730e+00,  9.26306148e+01, -1.40767104e+00,\n",
       "        -1.07116329e+00,  1.06509441e+01, -4.12774222e-01,\n",
       "        -8.03579647e-01, -6.37363523e+00, -9.64556042e-01,\n",
       "        -7.57601463e+00,  1.29213331e-02, -1.27681127e-01,\n",
       "         1.89920656e+01, -1.70995655e+00],\n",
       "       [-7.19201176e+00,  8.64421248e-01, -8.89757158e-01,\n",
       "         1.63937642e+01, -2.47901003e-01, -2.70915668e+00,\n",
       "         7.40538579e+00, -1.10631628e+00,  9.53052838e+00,\n",
       "        -1.25713766e+00, -1.93386995e+01, -1.02706190e+00,\n",
       "        -2.29579752e+00,  1.69039713e+00, -9.48028312e-01,\n",
       "         4.59514645e+01,  1.01473833e+01,  3.51719658e+00,\n",
       "        -1.87191256e+00,  4.90175110e+01, -7.64263955e-01,\n",
       "        -4.69781169e+01, -1.06379368e+00, -9.89433513e-01,\n",
       "        -6.86896269e-01, -6.40238191e-01, -9.86247926e-01,\n",
       "        -5.56817012e+00, -8.12392872e-01],\n",
       "       [ 4.41171422e+01, -9.40487482e-01,  2.66054377e+00,\n",
       "         5.63165439e+01, -1.44244456e+00,  1.05656643e+00,\n",
       "        -2.63486774e+00, -9.31041943e-01, -2.50333064e+00,\n",
       "         1.62680727e+00, -5.63772530e+00, -1.06990935e+00,\n",
       "        -1.13980745e+00, -7.01455972e-01, -2.23384896e+00,\n",
       "        -2.21139018e+02,  7.19710186e+01,  8.75293291e+00,\n",
       "        -8.08577585e-02,  2.71123338e+02, -4.06481827e+01,\n",
       "        -4.61933645e+00, -1.00140452e+00, -1.03208247e+00,\n",
       "        -3.68002800e-01, -9.67784000e-01, -1.00916510e+00,\n",
       "         2.83274900e+00, -1.06533705e+00],\n",
       "       [ 5.68720564e+00, -3.54477899e+00, -1.62616351e+00,\n",
       "         4.19604071e+00, -2.87506687e-01,  1.21971022e+00,\n",
       "        -2.94598141e+00, -1.01149580e+00, -9.00454693e-01,\n",
       "        -4.12038372e+00,  1.68610383e+02, -1.05375403e+00,\n",
       "        -2.60589368e+00, -1.88438200e+00, -1.33953144e+00,\n",
       "         2.88761944e+02, -6.22974116e+01, -7.32374030e-01,\n",
       "        -9.83627973e-01,  1.91528968e+01, -6.35655910e+00,\n",
       "        -1.15757299e+01, -1.01613564e+00, -1.12400420e+00,\n",
       "        -1.47825421e+00, -8.30053559e-01, -1.07750227e+00,\n",
       "        -6.98765020e+00, -1.37281508e+00],\n",
       "       [-1.53557112e+00, -2.23300489e-01, -1.85501366e+00,\n",
       "        -2.38473263e+00, -5.95099692e+00, -5.35360600e+00,\n",
       "         3.28659175e+00, -1.01470502e+00, -3.37917803e+00,\n",
       "         1.83216537e+00, -9.34407856e+01, -9.25691575e-01,\n",
       "        -1.86421327e+00, -1.34897368e+00, -2.90697663e-01,\n",
       "        -6.02477811e+01, -5.19553850e+00, -1.34066696e+00,\n",
       "        -9.82567850e-01,  2.00336676e+00, -2.35887718e+00,\n",
       "        -1.75204205e+00, -1.01518611e+00, -2.51384188e-01,\n",
       "         1.06866296e-01, -1.36559729e+00, -1.17708987e+00,\n",
       "        -7.36780405e+01, -6.98682571e-01],\n",
       "       [-2.21325629e+00, -1.31878605e+00, -1.60137326e+00,\n",
       "        -5.26395074e+00, -1.26571014e-01, -2.94130280e-01,\n",
       "        -3.00220617e+00, -1.01778873e+00, -2.49936660e+00,\n",
       "        -4.42138307e+00,  1.59360334e+01, -1.07653676e+00,\n",
       "        -1.40165812e-01,  1.16251944e+00, -9.31711900e-01,\n",
       "         3.62749962e+00,  7.40741507e+00, -1.16085343e+00,\n",
       "        -8.28367853e-01, -5.81733496e+01, -4.26337171e-01,\n",
       "         1.66690053e+00, -1.21807249e+00, -1.70427085e+00,\n",
       "        -3.79492679e+00, -1.49497782e+00, -9.18857602e-01,\n",
       "         7.25235159e+01, -4.45934017e-01],\n",
       "       [ 1.73128088e+01, -3.50769586e-01, -2.56185419e+00,\n",
       "        -5.61948170e+00, -3.67586707e+00, -1.23477920e+00,\n",
       "        -1.20214402e+01, -1.13898214e+00, -3.99448190e+00,\n",
       "        -1.49376801e+00, -7.86455490e+00, -1.06590956e+00,\n",
       "         2.29839254e+00, -1.93681502e+00, -7.15923290e-01,\n",
       "        -3.56423806e+01, -7.92700005e+01,  1.40564076e+01,\n",
       "        -3.08931990e+00, -1.47528269e+01,  2.93640184e+01,\n",
       "        -3.73700814e+00, -1.01680404e+00, -9.88612594e-01,\n",
       "        -1.10501229e+00, -1.20727078e+00, -9.94044374e-01,\n",
       "        -1.39861249e+00, -6.08080522e-01],\n",
       "       [ 1.05649025e+01,  1.31312921e+00,  6.79917455e-01,\n",
       "        -1.46673075e+01, -1.84943381e+00, -1.00256671e+00,\n",
       "         3.62412718e+00, -1.29200818e+00,  4.99670181e+00,\n",
       "        -7.81036192e-01,  1.87883766e+00, -1.03140405e+00,\n",
       "         4.21342614e-01, -4.64058566e+00, -1.44332066e+00,\n",
       "        -1.40004970e+02,  4.29056595e+01,  1.31373634e+02,\n",
       "        -8.29600416e+00, -1.10834044e+02,  2.31041210e+00,\n",
       "         1.79720741e+02, -1.00508862e+00, -9.94203080e-01,\n",
       "        -9.82281833e-01, -1.19231227e+01, -1.00299337e+00,\n",
       "        -1.40607586e+00, -9.91261695e-01],\n",
       "       [-3.32581344e+00,  7.87983246e-01, -1.25910165e+00,\n",
       "        -7.04645570e+00, -7.31618207e-01, -2.23285871e+00,\n",
       "        -1.31406524e+00, -1.57328058e-01, -2.16099725e+00,\n",
       "         2.57576619e+00, -8.35755698e+01, -9.13053426e-01,\n",
       "         3.19720079e-01, -1.59703220e-01, -6.88262976e-01,\n",
       "        -4.62787169e-01, -1.06848342e+02, -1.11907795e+00,\n",
       "        -9.83494653e-01,  4.55864701e+00, -2.02913808e+00,\n",
       "        -5.79618691e+01, -6.16431586e-01, -1.01124780e+00,\n",
       "        -7.00973839e+00, -3.18845593e+00, -4.05525941e-01,\n",
       "        -7.98953639e+00, -9.53919731e-01],\n",
       "       [-9.52238814e-01, -1.69360898e+00,  8.42612764e-01,\n",
       "         2.25700213e+00, -3.57890339e-01, -1.02544905e+00,\n",
       "         9.97639500e+00, -1.32102156e+00,  2.88002937e+00,\n",
       "        -1.26761657e+00,  2.89540846e+01, -9.27664397e-01,\n",
       "         7.20271359e+00,  2.11708310e+00, -1.17780069e+00,\n",
       "        -3.17212445e+00, -2.41175409e+00,  1.62275665e+00,\n",
       "        -9.60565946e-01, -1.90878884e+00, -1.40732229e+00,\n",
       "        -2.76909912e+00, -9.37303436e-01, -1.29828803e+00,\n",
       "         1.45999542e+00, -2.41282661e+01, -1.03384959e+00,\n",
       "        -1.50628885e+01,  2.87749742e+00],\n",
       "       [ 1.00338713e+01,  1.62004640e+01, -3.52492140e+01,\n",
       "        -2.18541019e+01, -1.47384580e+00, -1.25565988e+00,\n",
       "        -1.44553447e+00, -1.63098300e+00, -2.87667573e+00,\n",
       "        -1.48826666e+00, -8.91851292e-01, -1.02614023e+00,\n",
       "         1.37787191e+00,  2.74244555e+00, -2.10086940e+02,\n",
       "        -7.25174155e+01, -4.45595746e+01,  1.01241432e-01,\n",
       "         1.93813708e+00, -2.60709045e+01, -3.14669698e+00,\n",
       "        -9.78566446e-01, -9.95521733e-01, -9.92372248e-01,\n",
       "        -1.22896003e+00, -1.36372672e+00, -9.28572586e-01,\n",
       "        -3.91371139e-01, -6.55152227e-01],\n",
       "       [-3.98982232e+00, -9.66056125e-01, -2.06397895e+00,\n",
       "         2.95451891e+00,  1.30242208e+00,  1.20350816e-01,\n",
       "        -1.96314121e+00, -1.80483780e+00, -1.27790042e+00,\n",
       "         1.56046398e+00, -1.18398679e-01, -3.08924277e+00,\n",
       "        -2.05566584e+00, -2.33228477e+00, -2.05115496e+00,\n",
       "         3.36634609e+01,  2.88487913e+01, -8.30690472e-01,\n",
       "        -4.57943989e-01, -5.16893768e+00, -1.51520535e+00,\n",
       "        -1.48485531e+00, -9.59673644e-01, -8.42650052e-01,\n",
       "        -4.44394419e+00, -1.94351236e+00, -1.12447385e+00,\n",
       "        -3.40936303e+00, -3.95551709e+00],\n",
       "       [-8.07594581e+00,  3.78622202e-01,  2.12107843e+01,\n",
       "        -3.22463685e+01, -4.77163604e-01, -1.61455045e+00,\n",
       "         6.47422592e+00, -1.00695794e+00, -3.37262581e-01,\n",
       "        -1.41321812e+00, -1.79818208e-01, -9.92187002e-01,\n",
       "         6.45287983e-01, -3.08132388e+00,  5.60489770e+00,\n",
       "        -3.65829029e+02, -8.25320863e+00, -3.42268206e+00,\n",
       "        -1.10076221e+00, -2.51936274e+01, -5.10230274e-01,\n",
       "        -9.16803014e-01, -9.99056492e-01, -4.92065179e-01,\n",
       "         4.81669557e-01, -2.02077647e-01, -9.86203419e-01,\n",
       "        -4.56053770e+02, -1.69568166e+00],\n",
       "       [ 3.00301311e+01, -9.97158039e+00,  3.01827021e+00,\n",
       "         3.60731245e+01, -6.97860104e-01, -1.69897588e+00,\n",
       "        -1.06600983e+00, -1.97281184e+00, -1.88990494e+00,\n",
       "        -3.21517505e+00, -1.65571499e+00, -1.00438345e+00,\n",
       "         3.00510546e+00, -6.05463345e+00, -2.28635409e+00,\n",
       "         2.55026508e+00, -3.59163134e+00, -8.61544234e-01,\n",
       "        -8.77298005e-01,  1.46464807e+00,  3.39557670e-01,\n",
       "        -1.11304652e+00, -8.46318034e-01, -1.73768022e+00,\n",
       "         1.87227047e-01,  3.66738214e+00,  6.18696003e+00,\n",
       "        -7.36187750e-01, -6.38107488e+00],\n",
       "       [-4.83037551e+00, -2.58763025e+00, -5.45595231e+00,\n",
       "         2.02249112e+01, -2.51880075e+00, -7.01130693e-01,\n",
       "        -9.91943582e-01, -4.69778144e+00, -5.92381941e+00,\n",
       "         6.67812129e+00, -9.71059872e-01, -1.39918524e+00,\n",
       "        -4.68163699e-01, -1.96888992e+00,  3.59059132e+01,\n",
       "         1.06729241e+01, -3.72382405e+00, -1.52292677e+00,\n",
       "         6.98360545e+01,  8.10500130e+00, -4.26804864e+00,\n",
       "        -1.91139152e+00, -1.16411637e+00, -1.01745902e+00,\n",
       "        -8.92107821e-01, -6.06247269e-01, -3.57709401e+00,\n",
       "        -1.04147286e+00, -1.14269587e+00],\n",
       "       [-4.32404975e+00, -9.24206183e-01, -5.48898194e-01,\n",
       "        -1.27258685e+01, -1.90967583e+00,  1.59433648e+00,\n",
       "        -1.10945902e+00, -2.08958015e+02, -1.02249518e+00,\n",
       "        -2.97113134e+00, -4.32922974e-01, -6.97410257e+00,\n",
       "         3.09087297e-01, -1.51770939e+00, -7.00247720e+00,\n",
       "        -1.01016493e+00, -2.64112824e+00,  1.19232495e+00,\n",
       "        -4.54341035e+00, -9.69181591e-01, -3.33572499e+00,\n",
       "        -4.06447486e-01,  1.60270247e+00, -8.55115739e-01,\n",
       "        -4.53305546e+00, -1.34484840e+00,  2.41991579e+00,\n",
       "        -8.14648941e-01, -4.81196690e+01],\n",
       "       [-1.96547865e+00, -1.95586635e+00, -1.04304264e+00,\n",
       "        -6.65689958e-01, -1.62789080e+00, -1.25134975e+00,\n",
       "        -1.38936062e+00, -2.95555139e+00, -3.00868513e+00,\n",
       "        -4.14536519e-01, -1.14921343e+00, -3.56942488e+00,\n",
       "        -2.68473024e-01, -2.75447982e-01, -3.81025187e+00,\n",
       "         1.54925003e+00, -8.55977509e-01, -2.76348773e-01,\n",
       "        -5.50207340e+00,  5.49493755e-01,  5.50872696e+00,\n",
       "        -4.72306037e-02, -8.67985138e+00,  4.46796896e+00,\n",
       "        -3.58205173e+00, -9.97854683e+00, -4.42943302e-01,\n",
       "        -1.08487817e+00, -2.70281096e+00],\n",
       "       [-6.53374053e+00,  8.29071649e-02,  5.41143377e-01,\n",
       "        -1.42219622e+01, -2.43148508e+00, -2.21659325e+00,\n",
       "        -7.69514874e-01,  7.74452801e+00, -7.64854157e+00,\n",
       "         7.20844450e-02, -6.86980803e-01, -7.10816699e-01,\n",
       "        -2.11885366e-01, -5.42112131e+00,  1.13655894e+00,\n",
       "        -4.92672104e+00, -1.15210288e+00,  1.14742845e-01,\n",
       "         6.37552399e-01, -3.56175429e+00, -3.43160023e-01,\n",
       "        -1.73585571e-02, -7.55795451e-01, -1.36792927e+00,\n",
       "        -4.29531401e-01,  1.64970463e+00,  1.36559425e-01,\n",
       "        -1.01612634e+00, -4.01013038e-01],\n",
       "       [-1.93995784e+00,  5.14036094e-02,  4.16330826e-01,\n",
       "        -1.91393055e+00, -4.25934474e-02, -4.55650648e-01,\n",
       "         8.82322069e-01, -1.95085322e-01,  1.48166635e-01,\n",
       "        -2.98908844e-01,  5.70329653e-01, -1.80690867e+00,\n",
       "         1.26576663e-02,  6.57830057e-01, -3.52653588e-01,\n",
       "         4.51343670e+00, -1.69821063e+00,  2.08385489e-01,\n",
       "        -4.18908377e-01, -1.78962316e+00, -9.97126344e-03,\n",
       "        -1.01286246e-01, -8.91762827e-01, -2.66361824e+00,\n",
       "         1.82396595e-01,  4.23843258e-01, -1.91517145e+00,\n",
       "         2.66261679e-01,  2.58262591e-01],\n",
       "       [ 1.69193731e+00,  1.75246051e-01,  8.86924207e-02,\n",
       "         6.96923612e-01, -3.52280721e-01, -3.82677767e-01,\n",
       "        -4.23205452e-01,  2.03879190e+00,  6.94411155e-01,\n",
       "        -1.64659948e-02, -5.36257939e-01, -7.82408721e-02,\n",
       "         7.00802785e-02,  1.52911538e-01,  7.12906440e-01,\n",
       "        -1.04797778e+00, -8.62696732e-01,  6.69220716e+00,\n",
       "         7.01362772e-01, -9.16746823e-01,  4.91812095e-01,\n",
       "         2.94885344e-01, -1.49675951e+01,  1.70346732e+00,\n",
       "        -8.31920819e-01,  8.96716194e-01,  1.23525943e+01,\n",
       "        -7.16120366e-01, -3.09981672e-01],\n",
       "       [-9.79797274e-01, -1.30902559e+00,  1.01501187e+00,\n",
       "        -1.11990452e+00,  3.24257001e+00, -8.95111299e-01,\n",
       "        -9.57542192e-01,  1.76196038e+00,  1.10761886e+01,\n",
       "         1.02795215e+01, -8.01958761e-01,  6.31425386e+01,\n",
       "        -6.40264277e-01, -2.13719183e+00, -5.11384352e+00,\n",
       "        -1.07096358e+00, -9.67898912e-01,  2.90727204e+00,\n",
       "        -1.00894490e+01, -1.03410877e+00, -8.56601615e+00,\n",
       "        -4.23581623e+00, -1.41148146e+01, -1.92558627e+00,\n",
       "        -1.01912914e+00, -3.67795221e+00,  2.03830400e+02,\n",
       "        -9.55620585e-01, -1.23079969e+00],\n",
       "       [-1.08606636e+00, -1.88502300e+00, -9.09307966e-01,\n",
       "        -7.05725450e-01, -1.29773542e+00,  4.07977647e+01,\n",
       "        -1.07290693e+00, -3.56018223e+01, -9.67956831e-01,\n",
       "        -3.54320777e+00, -9.36742211e-01, -2.12900812e+01,\n",
       "         7.26648465e+00, -1.05616127e+00, -1.14165698e+01,\n",
       "        -7.91382911e-01, -9.55884830e-01, -1.16208418e+00,\n",
       "         1.49978399e+01, -1.00600644e+00, -1.39290850e+00,\n",
       "        -4.31455178e-01, -2.50139379e+01, -1.07601118e+01,\n",
       "         7.34501041e+00, -7.70752929e-01, -5.22853119e+01,\n",
       "        -7.02725229e-01,  1.11803939e+01],\n",
       "       [-9.59029309e-01,  1.17442465e+00, -2.48650685e+00,\n",
       "        -1.05419360e+00, -1.67007373e+00, -2.05022933e+00,\n",
       "        -9.94212698e-01,  4.20370753e-01, -3.70604611e+00,\n",
       "         1.13759788e+01, -1.25833934e+00,  3.28143738e+01,\n",
       "         2.16551639e-01,  7.18446989e-02,  5.15950960e+00,\n",
       "        -1.80369097e+00, -1.48925452e+00, -4.86666019e+00,\n",
       "         1.18943920e+01, -5.06065203e+00, -4.74124666e+00,\n",
       "         2.49444368e+00,  1.60787923e+00, -1.33937897e+00,\n",
       "        -1.01389784e+00, -8.29239925e-01,  2.14864955e+01,\n",
       "        -1.09432889e+00, -9.09423137e-01],\n",
       "       [-4.91602586e-01,  3.00199118e-01,  2.04362060e-01,\n",
       "        -4.71418575e-01, -3.97805797e-01, -2.18822362e-01,\n",
       "        -8.50478986e-01,  6.38580224e+00, -1.31680037e-01,\n",
       "         7.45553463e-02, -8.40205321e-01,  7.92605068e+00,\n",
       "         7.02551808e-01,  1.27474979e-01,  5.64443424e+00,\n",
       "        -9.53628724e-01, -9.20149266e-01, -5.04522948e-01,\n",
       "         4.43698700e+00, -9.17301761e-01, -3.43743155e-01,\n",
       "        -4.44727138e-02,  1.41155144e+01,  7.89177738e-01,\n",
       "         1.39399623e+00,  2.26111429e-01,  9.04724077e+00,\n",
       "        -7.39509334e-01,  2.74816254e-01]])"
      ]
     },
     "execution_count": 8,
     "metadata": {},
     "output_type": "execute_result"
    }
   ],
   "source": [
    "(winterped - weights)/weights"
   ]
  },
  {
   "cell_type": "code",
   "execution_count": 12,
   "id": "63126049",
   "metadata": {},
   "outputs": [],
   "source": [
    "import numpy as np\n",
    "a = np.arange(36).reshape((3,3,4))"
   ]
  },
  {
   "cell_type": "code",
   "execution_count": 16,
   "id": "e3fbe4ca",
   "metadata": {},
   "outputs": [
    {
     "data": {
      "text/plain": [
       "array([[ 0,  1,  2,  3],\n",
       "       [ 4,  5,  6,  7],\n",
       "       [ 8,  9, 10, 11],\n",
       "       [12, 13, 14, 15],\n",
       "       [16, 17, 18, 19],\n",
       "       [20, 21, 22, 23],\n",
       "       [24, 25, 26, 27],\n",
       "       [28, 29, 30, 31],\n",
       "       [32, 33, 34, 35]])"
      ]
     },
     "execution_count": 16,
     "metadata": {},
     "output_type": "execute_result"
    }
   ],
   "source": [
    "a.reshape((9,4))"
   ]
  },
  {
   "cell_type": "code",
   "execution_count": 17,
   "id": "75ca7340",
   "metadata": {},
   "outputs": [
    {
     "data": {
      "text/plain": [
       "array([[[ 0,  1,  2,  3],\n",
       "        [ 4,  5,  6,  7],\n",
       "        [ 8,  9, 10, 11]],\n",
       "\n",
       "       [[12, 13, 14, 15],\n",
       "        [16, 17, 18, 19],\n",
       "        [20, 21, 22, 23]],\n",
       "\n",
       "       [[24, 25, 26, 27],\n",
       "        [28, 29, 30, 31],\n",
       "        [32, 33, 34, 35]]])"
      ]
     },
     "execution_count": 17,
     "metadata": {},
     "output_type": "execute_result"
    }
   ],
   "source": [
    "a"
   ]
  },
  {
   "cell_type": "code",
   "execution_count": 18,
   "id": "08440447",
   "metadata": {},
   "outputs": [],
   "source": [
    "h_matrix = h.reshape(1024,28)"
   ]
  },
  {
   "cell_type": "code",
   "execution_count": 25,
   "id": "71fc0692",
   "metadata": {},
   "outputs": [],
   "source": [
    "reshaped_psfs_gt = np.matmul(h_matrix, weights)\n",
    "reshaped_psfs_interp = np.matmul(h_matrix, winterped)"
   ]
  },
  {
   "cell_type": "code",
   "execution_count": 22,
   "id": "a171d523",
   "metadata": {},
   "outputs": [
    {
     "data": {
      "text/plain": [
       "(1024, 29)"
      ]
     },
     "execution_count": 22,
     "metadata": {},
     "output_type": "execute_result"
    }
   ],
   "source": [
    "reshaped_psfs_gt.shape"
   ]
  },
  {
   "cell_type": "code",
   "execution_count": 24,
   "id": "2626841b",
   "metadata": {},
   "outputs": [
    {
     "data": {
      "text/plain": [
       "<matplotlib.image.AxesImage at 0x7ef8978745b0>"
      ]
     },
     "execution_count": 24,
     "metadata": {},
     "output_type": "execute_result"
    },
    {
     "data": {
      "image/png": "[encoded data removed]",
      "text/plain": [
       "<Figure size 640x480 with 1 Axes>"
      ]
     },
     "metadata": {},
     "output_type": "display_data"
    }
   ],
   "source": [
    "plt.imshow(reshaped_psfs_gt.reshape((32,32,29))[:,:,0])"
   ]
  },
  {
   "cell_type": "code",
   "execution_count": 27,
   "id": "ebda7ccf",
   "metadata": {},
   "outputs": [
    {
     "data": {
      "text/plain": [
       "<matplotlib.image.AxesImage at 0x7ef89764f910>"
      ]
     },
     "execution_count": 27,
     "metadata": {},
     "output_type": "execute_result"
    },
    {
     "data": {
      "image/png": "[encoded data removed]",
      "text/plain": [
       "<Figure size 640x480 with 1 Axes>"
      ]
     },
     "metadata": {},
     "output_type": "display_data"
    }
   ],
   "source": [
    "plt.imshow(reshaped_psfs_interp.reshape((32,32,29))[:,:,0])"
   ]
  },
  {
   "cell_type": "code",
   "execution_count": 40,
   "id": "7fbf6017",
   "metadata": {},
   "outputs": [
    {
     "data": {
      "text/plain": [
       "Text(0.5, 1.0, 'Interpolated PSF')"
      ]
     },
     "execution_count": 40,
     "metadata": {},
     "output_type": "execute_result"
    },
    {
     "data": {
      "image/png": "[encoded data removed]",
      "text/plain": [
       "<Figure size 1500x1500 with 2 Axes>"
      ]
     },
     "metadata": {},
     "output_type": "display_data"
    }
   ],
   "source": [
    "fig, axs = plt.subplots(1, 2, figsize=(15,15))\n",
    "j = 5\n",
    "axs[0].imshow(reshaped_psfs_gt.reshape((32,32,29))[:,:,j])\n",
    "axs[0].set_title(\"Actual PSF\")\n",
    "axs[1].imshow(reshaped_psfs_interp.reshape((32,32,29))[:,:,j])\n",
    "axs[1].set_title(\"Interpolated PSF\")"
   ]
  },
  {
   "cell_type": "code",
   "execution_count": 38,
   "id": "dc8b899c",
   "metadata": {},
   "outputs": [
    {
     "name": "stdout",
     "output_type": "stream",
     "text": [
      "Field:  1\n",
      "At position:  [200.0, 0.0]\n",
      "\n",
      "Field:  10\n",
      "At position:  [200.0, 400.0]\n",
      "\n",
      "Field:  11\n",
      "At position:  [400.0, 400.0]\n",
      "\n",
      "Field:  12\n",
      "At position:  [-200.0, 0.0]\n",
      "\n",
      "Field:  13\n",
      "At position:  [-400.0, 0.0]\n",
      "\n",
      "Field:  14\n",
      "At position:  [-600.0, 0.0]\n",
      "\n",
      "Field:  15\n",
      "At position:  [-200.0, -200.0]\n",
      "\n",
      "Field:  16\n",
      "At position:  [-400.0, -200.0]\n",
      "\n",
      "Field:  17\n",
      "At position:  [-200.0, -400.0]\n",
      "\n",
      "Field:  18\n",
      "At position:  [-400.0, -400.0]\n",
      "\n",
      "Field:  19\n",
      "At position:  [-200.0, 200.0]\n",
      "\n",
      "Field:  2\n",
      "At position:  [400.0, 0.0]\n",
      "\n",
      "Field:  20\n",
      "At position:  [-400.0, 200.0]\n",
      "\n",
      "Field:  21\n",
      "At position:  [-200.0, 400.0]\n",
      "\n",
      "Field:  22\n",
      "At position:  [-400.0, 400.0]\n",
      "\n",
      "Field:  23\n",
      "At position:  [0.0, 0.0]\n",
      "\n",
      "Field:  24\n",
      "At position:  [0.0, 200.0]\n",
      "\n",
      "Field:  25\n",
      "At position:  [0.0, 400.0]\n",
      "\n",
      "Field:  26\n",
      "At position:  [0.0, 600.0]\n",
      "\n",
      "Field:  27\n",
      "At position:  [0.0, -200.0]\n",
      "\n",
      "Field:  28\n",
      "At position:  [0.0, -400.0]\n",
      "\n",
      "Field:  29\n",
      "At position:  [0.0, -600.0]\n",
      "\n",
      "Field:  3\n",
      "At position:  [600.0, 0.0]\n",
      "\n",
      "Field:  4\n",
      "At position:  [200.0, -200.0]\n",
      "\n",
      "Field:  5\n",
      "At position:  [400.0, -200.0]\n",
      "\n",
      "Field:  6\n",
      "At position:  [200.0, -400.0]\n",
      "\n",
      "Field:  7\n",
      "At position:  [400.0, -400.0]\n",
      "\n",
      "Field:  8\n",
      "At position:  [200.0, 200.0]\n",
      "\n",
      "Field:  9\n",
      "At position:  [400.0, 200.0]\n",
      "\n"
     ]
    }
   ],
   "source": [
    "for  i in indices:\n",
    "    print(\"Field: \", i)\n",
    "    print(\"At position: \", metaman.field_origins[i])\n",
    "    print(\"\")"
   ]
  }
 ],
 "metadata": {
  "kernelspec": {
   "display_name": "Python 3 (ipykernel)",
   "language": "python",
   "name": "python3"
  },
  "language_info": {
   "codemirror_mode": {
    "name": "ipython",
    "version": 3
   },
   "file_extension": ".py",
   "mimetype": "text/x-python",
   "name": "python",
   "nbconvert_exporter": "python",
   "pygments_lexer": "ipython3",
   "version": "3.9.13"
  }
 },
 "nbformat": 4,
 "nbformat_minor": 5
}
