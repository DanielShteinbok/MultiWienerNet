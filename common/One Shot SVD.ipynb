{
 "cells": [
  {
   "cell_type": "code",
   "execution_count": 1,
   "id": "4f65378c",
   "metadata": {},
   "outputs": [],
   "source": [
    "import one_shot_svd\n",
    "import pdb"
   ]
  },
  {
   "cell_type": "code",
   "execution_count": 2,
   "id": "8367a3b9",
   "metadata": {},
   "outputs": [
    {
     "name": "stdout",
     "output_type": "stream",
     "text": [
      "--Return--\n",
      "None\n",
      "> \u001b[0;32m/tmp/ipykernel_125746/1185775709.py\u001b[0m(1)\u001b[0;36m<cell line: 1>\u001b[0;34m()\u001b[0m\n",
      "\u001b[0;32m----> 1 \u001b[0;31m\u001b[0mpdb\u001b[0m\u001b[0;34m.\u001b[0m\u001b[0mset_trace\u001b[0m\u001b[0;34m(\u001b[0m\u001b[0;34m)\u001b[0m\u001b[0;34m\u001b[0m\u001b[0;34m\u001b[0m\u001b[0m\n",
      "\u001b[0m\u001b[0;32m      2 \u001b[0;31m\u001b[0;31m# h, weights = one_shot_svd.generate_model(\"/home/dshteinbok/nV3_PSFs\", \"/home/dshteinbok/nV3_PSFs_meta/PSF_Shifts.csv\",\u001b[0m\u001b[0;34m\u001b[0m\u001b[0;34m\u001b[0m\u001b[0m\n",
      "\u001b[0m\u001b[0;32m      3 \u001b[0;31m\u001b[0;31m#                                          (800,1280), (640,1024))\u001b[0m\u001b[0;34m\u001b[0m\u001b[0;34m\u001b[0m\u001b[0m\n",
      "\u001b[0m\u001b[0;32m      4 \u001b[0;31m\u001b[0;31m# h, weights = one_shot_svd.generate_model(\"/home/dshteinbok/nV3_PSFs_large\", \"/home/dshteinbok/nV3_PSFs_meta/PSF_Shifts.csv\",\u001b[0m\u001b[0;34m\u001b[0m\u001b[0;34m\u001b[0m\u001b[0m\n",
      "\u001b[0m\u001b[0;32m      5 \u001b[0;31m\u001b[0;31m#                                           (800,1280), (640,1024))\u001b[0m\u001b[0;34m\u001b[0m\u001b[0;34m\u001b[0m\u001b[0m\n",
      "\u001b[0m\n",
      "ipdb> c\n",
      "creating matrix\n",
      "\n",
      "done\n",
      "\n",
      "starting svd...\n",
      "\n",
      "check values of ymat\n",
      "interpolating...\n",
      "\n",
      "done\n",
      "\n",
      "\n"
     ]
    }
   ],
   "source": [
    "pdb.set_trace()\n",
    "# h, weights = one_shot_svd.generate_model(\"/home/dshteinbok/nV3_PSFs\", \"/home/dshteinbok/nV3_PSFs_meta/PSF_Shifts.csv\", \n",
    "#                                          (800,1280), (640,1024))\n",
    "# h, weights = one_shot_svd.generate_model(\"/home/dshteinbok/nV3_PSFs_large\", \"/home/dshteinbok/nV3_PSFs_meta/PSF_Shifts.csv\", \n",
    "#                                           (800,1280), (640,1024))\n",
    "h, weights = one_shot_svd.generate_model(\"/home/dshteinbok/nV3_PSFs_flat\", \"/home/dshteinbok/nV3_PSFs_flat_meta/metafile.csv\", \n",
    "                                          (800,1280), (640,1024))\n",
    "# one_shot_svd.generate_and_save(\"/home/dshteinbok/nV3_PSFs_flat\", \"/home/dshteinbok/nV3_PSFs_flat_meta/metafile.csv\", \n",
    "#                                           (800,1280), (640,1024), \"../data/nV3_flat_h.mat\", \"../data/nV3_flat_weights.mat\")\n",
    "# one_shot_svd.save_generated(h, weights, \"../data/nV3_flat_h.mat\", \"../data/nV3_flat_weights.mat\")"
   ]
  },
  {
   "cell_type": "code",
   "execution_count": 29,
   "id": "b9ecb890",
   "metadata": {},
   "outputs": [],
   "source": [
    "import numpy as np\n",
    "bad_psf = np.sum(weights[0,0,:]*h, -1)"
   ]
  },
  {
   "cell_type": "code",
   "execution_count": 12,
   "id": "5f5c00fa",
   "metadata": {},
   "outputs": [
    {
     "name": "stdout",
     "output_type": "stream",
     "text": [
      "CPU times: user 8 µs, sys: 0 ns, total: 8 µs\n",
      "Wall time: 15.7 µs\n"
     ]
    }
   ],
   "source": [
    "%time\n",
    "rectified_bad_psf_np = (bad_psf >= 0.001)*bad_psf"
   ]
  },
  {
   "cell_type": "code",
   "execution_count": 37,
   "id": "4ce58b24",
   "metadata": {},
   "outputs": [
    {
     "data": {
      "text/plain": [
       "1024000"
      ]
     },
     "execution_count": 37,
     "metadata": {},
     "output_type": "execute_result"
    }
   ],
   "source": [
    "# total number of pixels\n",
    "P = 1280*800\n",
    "P"
   ]
  },
  {
   "cell_type": "code",
   "execution_count": 14,
   "id": "77c9d753",
   "metadata": {},
   "outputs": [
    {
     "data": {
      "text/plain": [
       "58368000"
      ]
     },
     "execution_count": 14,
     "metadata": {},
     "output_type": "execute_result"
    }
   ],
   "source": [
    "# total number of nonzero values in mastermat\n",
    "NNZ = 57*P\n",
    "NNZ"
   ]
  },
  {
   "cell_type": "code",
   "execution_count": 11,
   "id": "3e4250cb",
   "metadata": {},
   "outputs": [
    {
     "data": {
      "text/plain": [
       "dtype('float64')"
      ]
     },
     "execution_count": 11,
     "metadata": {},
     "output_type": "execute_result"
    }
   ],
   "source": [
    "bad_psf.dtype"
   ]
  },
  {
   "cell_type": "code",
   "execution_count": 15,
   "id": "11e09459",
   "metadata": {},
   "outputs": [
    {
     "data": {
      "text/plain": [
       "942080008"
      ]
     },
     "execution_count": 15,
     "metadata": {},
     "output_type": "execute_result"
    }
   ],
   "source": [
    "# total number of information in mastermat, if it is stored as CSR matrix, in bytes, \n",
    "# assuming COL_INDEX and ROW_INDEX take 8 bytes each per value\n",
    "8*(2*NNZ + P + 1)"
   ]
  },
  {
   "cell_type": "code",
   "execution_count": 41,
   "id": "9a0c9da5",
   "metadata": {},
   "outputs": [],
   "source": [
    "raveled_psf = np.ravel(bad_psf)"
   ]
  },
  {
   "cell_type": "code",
   "execution_count": 42,
   "id": "74ccb76b",
   "metadata": {},
   "outputs": [
    {
     "name": "stdout",
     "output_type": "stream",
     "text": [
      "CPU times: user 3 µs, sys: 6 µs, total: 9 µs\n",
      "Wall time: 17.9 µs\n"
     ]
    },
    {
     "data": {
      "text/plain": [
       "array([526732, 528013, 529291, 529292, 529296, 530567, 530570, 530576,\n",
       "       531850, 531851, 531853, 531854, 531855, 531856, 533127, 533129,\n",
       "       533132, 533134, 533136, 533138, 534408, 534410, 534411, 534413,\n",
       "       534415, 534416, 535691, 535692, 535694, 535696, 535697, 535698,\n",
       "       536971, 536973, 536976, 536978, 538249, 538250, 538251, 538252,\n",
       "       538253, 538254, 538255, 538256, 538257, 538258, 538259, 539534,\n",
       "       539536, 540809, 540812, 540814, 540815, 540816, 540818, 543374,\n",
       "       543376])"
      ]
     },
     "execution_count": 42,
     "metadata": {},
     "output_type": "execute_result"
    }
   ],
   "source": [
    "%time\n",
    "np.arange(P)[raveled_psf >= 0.001]"
   ]
  },
  {
   "cell_type": "code",
   "execution_count": 51,
   "id": "aa123437",
   "metadata": {},
   "outputs": [],
   "source": [
    "# just for fun, is it feasible to have a list of a hundred million entries in python?\n",
    "megalist = []\n",
    "for i in range(100000000):\n",
    "    megalist.append(i)"
   ]
  },
  {
   "cell_type": "code",
   "execution_count": 52,
   "id": "150885a8",
   "metadata": {},
   "outputs": [
    {
     "data": {
      "text/plain": [
       "835128600"
      ]
     },
     "execution_count": 52,
     "metadata": {},
     "output_type": "execute_result"
    }
   ],
   "source": [
    "import sys\n",
    "sys.getsizeof(megalist)"
   ]
  },
  {
   "cell_type": "code",
   "execution_count": null,
   "id": "076f1368",
   "metadata": {},
   "outputs": [],
   "source": [
    "weights.shape"
   ]
  },
  {
   "cell_type": "code",
   "execution_count": null,
   "id": "27b929ab",
   "metadata": {},
   "outputs": [],
   "source": [
    "from matplotlib import pyplot as plt\n",
    "import numpy as np\n",
    "\n",
    "# plt.imshow(np.sum(weights[0,0,:]*h, -1)[350:450,600:700])\n",
    "# plt.imshow(np.sum(weights[0,0,:]*h, -1))"
   ]
  },
  {
   "cell_type": "code",
   "execution_count": null,
   "id": "227ee7b2",
   "metadata": {},
   "outputs": [],
   "source": [
    "import sys\n",
    "sys.path.append(\"../tensorflow\")\n",
    "import simulator\n",
    "\n",
    "flatsim = simulator.ImageSimulator(\"../data/nV3_flat_h.mat\", \"../data/nV3_flat_weights.mat\")\n",
    "_, sim = flatsim.simulate(\"../data/hydra3.jpg\", my_simulation=False)\n",
    "plt.imshow(sim)"
   ]
  },
  {
   "cell_type": "code",
   "execution_count": null,
   "id": "529dd870",
   "metadata": {},
   "outputs": [],
   "source": [
    "# examine each of the PSFs\n",
    "\n",
    "# load the metaman for meaningful plot titles (the supposed locations)\n",
    "import load_PSFs\n",
    "metaman = load_PSFs.MetaMan(\"/home/dshteinbok/nV3_PSFs_flat_meta/metafile.csv\")\n",
    "fig, axs = plt.subplots(5,5, figsize=(15,15))\n",
    "for row in range(5):\n",
    "    for column in range(5):\n",
    "        index = row*5 + column\n",
    "        axs[row,column].imshow(np.sum(weights[metaman.shifts[index+1][1],metaman.shifts[index+1][0],:]*h, -1)[350:450,600:700])\n",
    "        axs[row, column].set_title(metaman.shifts[index+1])"
   ]
  },
  {
   "cell_type": "code",
   "execution_count": null,
   "id": "f60ac58b",
   "metadata": {},
   "outputs": [],
   "source": [
    "img, sim = flatsim.simulate('/home/dshteinbok/TrainingData/Ground_truth_downsampled/1.png', my_simulation=False)\n",
    "fig, axs = plt.subplots(1, 2, figsize=(15,15))\n",
    "axs[0].imshow(img)\n",
    "axs[1].imshow(sim)"
   ]
  },
  {
   "cell_type": "code",
   "execution_count": null,
   "id": "c2a1b8fa",
   "metadata": {},
   "outputs": [],
   "source": []
  }
 ],
 "metadata": {
  "kernelspec": {
   "display_name": "Python 3 (ipykernel)",
   "language": "python",
   "name": "python3"
  },
  "language_info": {
   "codemirror_mode": {
    "name": "ipython",
    "version": 3
   },
   "file_extension": ".py",
   "mimetype": "text/x-python",
   "name": "python",
   "nbconvert_exporter": "python",
   "pygments_lexer": "ipython3",
   "version": "3.9.13"
  }
 },
 "nbformat": 4,
 "nbformat_minor": 5
}
