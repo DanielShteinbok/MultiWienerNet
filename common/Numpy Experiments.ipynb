{
 "cells": [
  {
   "cell_type": "markdown",
   "id": "1582e6cb",
   "metadata": {},
   "source": [
    "I want to replicate the example usage of `scipy.interpolate.griddata` to then see what I can do with replacing all NaN values with nearest neighbor interpolation"
   ]
  },
  {
   "cell_type": "code",
   "execution_count": 7,
   "id": "f6b4d008",
   "metadata": {},
   "outputs": [],
   "source": [
    "import scipy.interpolate\n",
    "import numpy as np"
   ]
  },
  {
   "cell_type": "code",
   "execution_count": 2,
   "id": "e029ef13",
   "metadata": {},
   "outputs": [],
   "source": [
    "def func(x, y):\n",
    "    return x*(1-x)*np.cos(4*np.pi*x) * np.sin(4*np.pi*y**2)**2"
   ]
  },
  {
   "cell_type": "code",
   "execution_count": 5,
   "id": "c1f334e8",
   "metadata": {},
   "outputs": [],
   "source": [
    "grid_x, grid_y = np.mgrid[0:1:100j, 0:1:200j]\n",
    "\n",
    "rng = np.random.default_rng()\n",
    "points = rng.random((1000, 2))\n",
    "values = func(points[:,0], points[:,1])"
   ]
  },
  {
   "cell_type": "code",
   "execution_count": 26,
   "id": "5ae44113",
   "metadata": {},
   "outputs": [],
   "source": [
    "grid_z1 = scipy.interpolate.griddata(points, values, (grid_x, grid_y), method='linear')\n",
    "grid_z0 = scipy.interpolate.griddata(points, values, (grid_x, grid_y), method='nearest')"
   ]
  },
  {
   "cell_type": "code",
   "execution_count": 27,
   "id": "95b3447d",
   "metadata": {},
   "outputs": [
    {
     "data": {
      "text/plain": [
       "(100, 200)"
      ]
     },
     "execution_count": 27,
     "metadata": {},
     "output_type": "execute_result"
    }
   ],
   "source": [
    "grid_z1.shape"
   ]
  },
  {
   "cell_type": "code",
   "execution_count": 28,
   "id": "1c1a8bfe",
   "metadata": {},
   "outputs": [],
   "source": [
    "grid_combined = grid_z1*1\n",
    "grid_combined[np.isnan(grid_combined)] = grid_z0[np.isnan(grid_combined)]"
   ]
  },
  {
   "cell_type": "code",
   "execution_count": 29,
   "id": "e19a7b89",
   "metadata": {},
   "outputs": [
    {
     "data": {
      "text/plain": [
       "array([[1.83918245e-08, 1.83918245e-08, 1.83918245e-08, ...,\n",
       "        2.12543051e-04, 2.12543051e-04, 2.12543051e-04],\n",
       "       [1.83918245e-08, 1.83918245e-08, 1.83918245e-08, ...,\n",
       "        7.90067477e-04, 2.12543051e-04, 2.12543051e-04],\n",
       "       [1.83918245e-08, 1.83918245e-08, 1.68230871e-06, ...,\n",
       "        1.40025435e-03, 3.94718618e-03, 2.99037896e-04],\n",
       "       ...,\n",
       "       [7.19138883e-07, 7.19138883e-07, 7.19138883e-07, ...,\n",
       "        1.23817476e-03, 6.90815831e-04, 6.90815831e-04],\n",
       "       [7.19138883e-07, 7.19138883e-07, 7.19138883e-07, ...,\n",
       "        6.90815831e-04, 6.90815831e-04, 6.90815831e-04],\n",
       "       [7.19138883e-07, 7.19138883e-07, 7.19138883e-07, ...,\n",
       "        6.90815831e-04, 6.90815831e-04, 6.90815831e-04]])"
      ]
     },
     "execution_count": 29,
     "metadata": {},
     "output_type": "execute_result"
    }
   ],
   "source": [
    "grid_combined"
   ]
  },
  {
   "cell_type": "code",
   "execution_count": 33,
   "id": "4d06bf4a",
   "metadata": {},
   "outputs": [
    {
     "data": {
      "text/plain": [
       "True"
      ]
     },
     "execution_count": 33,
     "metadata": {},
     "output_type": "execute_result"
    }
   ],
   "source": [
    "grid_z1[1][-3] == grid_combined[1][-3] "
   ]
  },
  {
   "cell_type": "code",
   "execution_count": null,
   "id": "854af935",
   "metadata": {},
   "outputs": [],
   "source": []
  },
  {
   "cell_type": "markdown",
   "id": "bcf19a65",
   "metadata": {},
   "source": [
    "Another approach would be to take the more theoretical approach: knowing the approximate nature of the shifting, I could write an interpolation method myself which would be more accurate..."
   ]
  },
  {
   "cell_type": "markdown",
   "id": "a644f47d",
   "metadata": {},
   "source": [
    "More specifically, the shifting observed at an angle $\\theta$ due to field curvature, given the radius of curvature is $r$, would be $r(\\tan\\theta-\\sin\\theta)$. Or, if we are looking at a point $x$ on the object plane, this would be $\\frac{rx}{\\sqrt{r^2 - x^2}} - x$"
   ]
  },
  {
   "cell_type": "markdown",
   "id": "70cb0b36",
   "metadata": {},
   "source": [
    "To investigate this, we want to plot the Euclidean distance from the origin v.s. two-norm of the shift. Will do this later."
   ]
  }
 ],
 "metadata": {
  "kernelspec": {
   "display_name": "Python 3 (ipykernel)",
   "language": "python",
   "name": "python3"
  },
  "language_info": {
   "codemirror_mode": {
    "name": "ipython",
    "version": 3
   },
   "file_extension": ".py",
   "mimetype": "text/x-python",
   "name": "python",
   "nbconvert_exporter": "python",
   "pygments_lexer": "ipython3",
   "version": "3.9.13"
  }
 },
 "nbformat": 4,
 "nbformat_minor": 5
}
