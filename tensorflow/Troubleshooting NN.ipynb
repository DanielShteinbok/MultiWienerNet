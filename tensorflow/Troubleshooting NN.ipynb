{
 "cells": [
  {
   "cell_type": "markdown",
   "id": "1d6d9fc6",
   "metadata": {},
   "source": [
    "# Current Problem: Shift Variance\n",
    "Currently, it seems that shifting an input image causes different deconvolution behaviour; the neural network is shift-variant. I've also seen that the PSFs get all messed up and disjointed. I want to see whether this shifting happens at some point during the creation of the neural network.\n",
    "\n",
    "Here are the things to check in initialization:\n",
    "1. Are the padded PSFs, passed into the builder function, centered?\n",
    "2. ~~Are the PSFs shifted insided the builder function?~~ I already know they aren't from prior investigation. `hdiff`==`wdiff`==0."
   ]
  },
  {
   "cell_type": "code",
   "execution_count": 1,
   "id": "9353111f",
   "metadata": {},
   "outputs": [
    {
     "name": "stderr",
     "output_type": "stream",
     "text": [
      "2023-02-08 09:48:41.568264: I tensorflow/core/platform/cpu_feature_guard.cc:193] This TensorFlow binary is optimized with oneAPI Deep Neural Network Library (oneDNN) to use the following CPU instructions in performance-critical operations:  AVX2 FMA\n",
      "To enable them in other operations, rebuild TensorFlow with the appropriate compiler flags.\n",
      "2023-02-08 09:48:41.933740: E tensorflow/stream_executor/cuda/cuda_blas.cc:2981] Unable to register cuBLAS factory: Attempting to register factory for plugin cuBLAS when one has already been registered\n",
      "2023-02-08 09:48:43.906556: W tensorflow/stream_executor/platform/default/dso_loader.cc:64] Could not load dynamic library 'libnvinfer.so.7'; dlerror: libnvinfer.so.7: cannot open shared object file: No such file or directory; LD_LIBRARY_PATH: :/home/dshteinbok/miniconda3/lib/:/home/dshteinbok/miniconda3/lib/:/home/dshteinbok/miniconda3/envs/tf/lib/\n",
      "2023-02-08 09:48:43.907639: W tensorflow/stream_executor/platform/default/dso_loader.cc:64] Could not load dynamic library 'libnvinfer_plugin.so.7'; dlerror: libnvinfer_plugin.so.7: cannot open shared object file: No such file or directory; LD_LIBRARY_PATH: :/home/dshteinbok/miniconda3/lib/:/home/dshteinbok/miniconda3/lib/:/home/dshteinbok/miniconda3/envs/tf/lib/\n",
      "2023-02-08 09:48:43.907660: W tensorflow/compiler/tf2tensorrt/utils/py_utils.cc:38] TF-TRT Warning: Cannot dlopen some TensorRT libraries. If you would like to use Nvidia GPU with TensorRT, please make sure the missing libraries mentioned above are installed properly.\n"
     ]
    },
    {
     "name": "stdout",
     "output_type": "stream",
     "text": [
      "--Return--\n",
      "None\n",
      "> \u001b[0;32m/tmp/ipykernel_181682/866717088.py\u001b[0m(5)\u001b[0;36m<cell line: 5>\u001b[0;34m()\u001b[0m\n",
      "\u001b[0;32m      3 \u001b[0;31m\u001b[0;34m\u001b[0m\u001b[0m\n",
      "\u001b[0m\u001b[0;32m      4 \u001b[0;31m\u001b[0;32mfrom\u001b[0m \u001b[0mpdb\u001b[0m \u001b[0;32mimport\u001b[0m \u001b[0mset_trace\u001b[0m\u001b[0;34m\u001b[0m\u001b[0;34m\u001b[0m\u001b[0m\n",
      "\u001b[0m\u001b[0;32m----> 5 \u001b[0;31m\u001b[0mset_trace\u001b[0m\u001b[0;34m(\u001b[0m\u001b[0;34m)\u001b[0m\u001b[0;34m\u001b[0m\u001b[0;34m\u001b[0m\u001b[0m\n",
      "\u001b[0m\u001b[0;32m      6 \u001b[0;31m\u001b[0;34m\u001b[0m\u001b[0m\n",
      "\u001b[0m\u001b[0;32m      7 \u001b[0;31m\u001b[0mmodel\u001b[0m \u001b[0;34m=\u001b[0m \u001b[0mpreset_nn\u001b[0m\u001b[0;34m.\u001b[0m\u001b[0minstant_multiwienernet\u001b[0m\u001b[0;34m(\u001b[0m\u001b[0;34m)\u001b[0m\u001b[0;34m\u001b[0m\u001b[0;34m\u001b[0m\u001b[0m\n",
      "\u001b[0m\n",
      "ipdb> c\n"
     ]
    },
    {
     "name": "stderr",
     "output_type": "stream",
     "text": [
      "2023-02-08 09:48:50.649296: I tensorflow/core/platform/cpu_feature_guard.cc:193] This TensorFlow binary is optimized with oneAPI Deep Neural Network Library (oneDNN) to use the following CPU instructions in performance-critical operations:  AVX2 FMA\n",
      "To enable them in other operations, rebuild TensorFlow with the appropriate compiler flags.\n",
      "2023-02-08 09:48:53.913735: I tensorflow/core/common_runtime/gpu/gpu_device.cc:1616] Created device /job:localhost/replica:0/task:0/device:GPU:0 with 18275 MB memory:  -> device: 0, name: NVIDIA RTX A4500, pci bus id: 0000:01:00.0, compute capability: 8.6\n",
      "2023-02-08 09:48:53.918953: I tensorflow/core/common_runtime/gpu/gpu_device.cc:1616] Created device /job:localhost/replica:0/task:0/device:GPU:1 with 5 MB memory:  -> device: 1, name: NVIDIA RTX A4500, pci bus id: 0000:2c:00.0, compute capability: 8.6\n",
      "2023-02-08 09:48:53.920068: I tensorflow/core/common_runtime/gpu/gpu_device.cc:1616] Created device /job:localhost/replica:0/task:0/device:GPU:2 with 18205 MB memory:  -> device: 2, name: NVIDIA RTX A4500, pci bus id: 0000:41:00.0, compute capability: 8.6\n",
      "2023-02-08 09:48:53.921146: I tensorflow/core/common_runtime/gpu/gpu_device.cc:1616] Created device /job:localhost/replica:0/task:0/device:GPU:3 with 18275 MB memory:  -> device: 3, name: NVIDIA RTX A4500, pci bus id: 0000:61:00.0, compute capability: 8.6\n"
     ]
    }
   ],
   "source": [
    "import preset_nn\n",
    "from matplotlib import pyplot as plt\n",
    "\n",
    "from pdb import set_trace\n",
    "set_trace()\n",
    "\n",
    "model = preset_nn.instant_multiwienernet()"
   ]
  },
  {
   "cell_type": "markdown",
   "id": "9f2e8e39",
   "metadata": {},
   "source": [
    "Above, I verified that an (800, 1280)-shaped initial PSF does not get padded at all. This is the situation we had in `training_code.ipynb`."
   ]
  },
  {
   "cell_type": "markdown",
   "id": "ebba3cd3",
   "metadata": {},
   "source": [
    "I also verified, in `training_code.ipynb` that the PSFs really are centered after padding (before they are passed into the builder function). This eliminates the suspicion of both 1. and 2. above."
   ]
  },
  {
   "cell_type": "markdown",
   "id": "605ce8b7",
   "metadata": {},
   "source": [
    "The next \"section\" that could be suspect is the actual behavior when calling the network on some input. Namely, the following bits of code are suspect:\n",
    "1. `layers.py:32`, which pads the input image\n",
    "2. `layers.py:48`, which pads the PSF\n",
    "3. `layers.py:61`, which crops the now-padded output image."
   ]
  },
  {
   "cell_type": "code",
   "execution_count": 7,
   "id": "4e6f0894",
   "metadata": {},
   "outputs": [
    {
     "name": "stdout",
     "output_type": "stream",
     "text": [
      "['/home/dshteinbok/MultiWienerNet/tensorflow', '/home/dshteinbok/miniconda3/envs/tf/lib/python39.zip', '/home/dshteinbok/miniconda3/envs/tf/lib/python3.9', '/home/dshteinbok/miniconda3/envs/tf/lib/python3.9/lib-dynload', '', '/home/dshteinbok/miniconda3/envs/tf/lib/python3.9/site-packages', '/home/dshteinbok/denoising_experiments/']\n"
     ]
    },
    {
     "ename": "ImportError",
     "evalue": "ERROR: recursion is detected during loading of \"cv2\" binary extensions. Check OpenCV installation.",
     "output_type": "error",
     "traceback": [
      "\u001b[0;31m---------------------------------------------------------------------------\u001b[0m",
      "\u001b[0;31mImportError\u001b[0m                               Traceback (most recent call last)",
      "Input \u001b[0;32mIn [7]\u001b[0m, in \u001b[0;36m<cell line: 4>\u001b[0;34m()\u001b[0m\n\u001b[1;32m      2\u001b[0m \u001b[38;5;28;01mimport\u001b[39;00m \u001b[38;5;21;01msys\u001b[39;00m\n\u001b[1;32m      3\u001b[0m sys\u001b[38;5;241m.\u001b[39mpath\u001b[38;5;241m.\u001b[39mappend(\u001b[38;5;124m\"\u001b[39m\u001b[38;5;124m/home/dshteinbok/denoising_experiments/\u001b[39m\u001b[38;5;124m\"\u001b[39m)\n\u001b[0;32m----> 4\u001b[0m \u001b[38;5;28;01mimport\u001b[39;00m \u001b[38;5;21;01mdenoising\u001b[39;00m\n\u001b[1;32m      5\u001b[0m test_img \u001b[38;5;241m=\u001b[39m imageio\u001b[38;5;241m.\u001b[39mimread(\u001b[38;5;124m'\u001b[39m\u001b[38;5;124m../data/nV3_mastermat_probe_unshifted/100.png\u001b[39m\u001b[38;5;124m'\u001b[39m)\n",
      "File \u001b[0;32m~/denoising_experiments/denoising.py:3\u001b[0m, in \u001b[0;36m<module>\u001b[0;34m\u001b[0m\n\u001b[1;32m      1\u001b[0m \u001b[38;5;28;01mimport\u001b[39;00m \u001b[38;5;21;01mnumpy\u001b[39;00m \u001b[38;5;28;01mas\u001b[39;00m \u001b[38;5;21;01mnp\u001b[39;00m\n\u001b[1;32m      2\u001b[0m \u001b[38;5;28;01mimport\u001b[39;00m \u001b[38;5;21;01mscipy\u001b[39;00m\u001b[38;5;21;01m.\u001b[39;00m\u001b[38;5;21;01mndimage\u001b[39;00m\n\u001b[0;32m----> 3\u001b[0m \u001b[38;5;28;01mimport\u001b[39;00m \u001b[38;5;21;01mcv2\u001b[39;00m\n\u001b[1;32m      5\u001b[0m \u001b[38;5;66;03m# bm3d should be included with opencv,\u001b[39;00m\n\u001b[1;32m      6\u001b[0m \u001b[38;5;66;03m# but due to licensing issues the latter must be built with a specific flag.\u001b[39;00m\n\u001b[1;32m      7\u001b[0m \u001b[38;5;66;03m# Since opencv is provided by conda, I can't easily rebuild the library.\u001b[39;00m\n\u001b[1;32m      8\u001b[0m \u001b[38;5;66;03m# Thus, I am importing a special library just for bm3d.\u001b[39;00m\n\u001b[1;32m      9\u001b[0m \u001b[38;5;66;03m# This is downloaded through: pip install bm3d\u001b[39;00m\n\u001b[1;32m     10\u001b[0m \u001b[38;5;28;01mimport\u001b[39;00m \u001b[38;5;21;01mbm3d\u001b[39;00m\n",
      "File \u001b[0;32m~/miniconda3/envs/tf/lib/python3.9/site-packages/cv2/__init__.py:181\u001b[0m, in \u001b[0;36m<module>\u001b[0;34m\u001b[0m\n\u001b[1;32m    176\u001b[0m             \u001b[38;5;28;01mif\u001b[39;00m DEBUG: \u001b[38;5;28mprint\u001b[39m(\u001b[38;5;124m\"\u001b[39m\u001b[38;5;124mExtra Python code for\u001b[39m\u001b[38;5;124m\"\u001b[39m, submodule, \u001b[38;5;124m\"\u001b[39m\u001b[38;5;124mis loaded\u001b[39m\u001b[38;5;124m\"\u001b[39m)\n\u001b[1;32m    178\u001b[0m     \u001b[38;5;28;01mif\u001b[39;00m DEBUG: \u001b[38;5;28mprint\u001b[39m(\u001b[38;5;124m'\u001b[39m\u001b[38;5;124mOpenCV loader: DONE\u001b[39m\u001b[38;5;124m'\u001b[39m)\n\u001b[0;32m--> 181\u001b[0m \u001b[43mbootstrap\u001b[49m\u001b[43m(\u001b[49m\u001b[43m)\u001b[49m\n",
      "File \u001b[0;32m~/miniconda3/envs/tf/lib/python3.9/site-packages/cv2/__init__.py:153\u001b[0m, in \u001b[0;36mbootstrap\u001b[0;34m()\u001b[0m\n\u001b[1;32m    149\u001b[0m \u001b[38;5;28;01mif\u001b[39;00m DEBUG: \u001b[38;5;28mprint\u001b[39m(\u001b[38;5;124m\"\u001b[39m\u001b[38;5;124mRelink everything from native cv2 module to cv2 package\u001b[39m\u001b[38;5;124m\"\u001b[39m)\n\u001b[1;32m    151\u001b[0m py_module \u001b[38;5;241m=\u001b[39m sys\u001b[38;5;241m.\u001b[39mmodules\u001b[38;5;241m.\u001b[39mpop(\u001b[38;5;124m\"\u001b[39m\u001b[38;5;124mcv2\u001b[39m\u001b[38;5;124m\"\u001b[39m)\n\u001b[0;32m--> 153\u001b[0m native_module \u001b[38;5;241m=\u001b[39m \u001b[43mimportlib\u001b[49m\u001b[38;5;241;43m.\u001b[39;49m\u001b[43mimport_module\u001b[49m\u001b[43m(\u001b[49m\u001b[38;5;124;43m\"\u001b[39;49m\u001b[38;5;124;43mcv2\u001b[39;49m\u001b[38;5;124;43m\"\u001b[39;49m\u001b[43m)\u001b[49m\n\u001b[1;32m    155\u001b[0m sys\u001b[38;5;241m.\u001b[39mmodules[\u001b[38;5;124m\"\u001b[39m\u001b[38;5;124mcv2\u001b[39m\u001b[38;5;124m\"\u001b[39m] \u001b[38;5;241m=\u001b[39m py_module\n\u001b[1;32m    156\u001b[0m \u001b[38;5;28msetattr\u001b[39m(py_module, \u001b[38;5;124m\"\u001b[39m\u001b[38;5;124m_native\u001b[39m\u001b[38;5;124m\"\u001b[39m, native_module)\n",
      "File \u001b[0;32m~/miniconda3/envs/tf/lib/python3.9/importlib/__init__.py:127\u001b[0m, in \u001b[0;36mimport_module\u001b[0;34m(name, package)\u001b[0m\n\u001b[1;32m    125\u001b[0m             \u001b[38;5;28;01mbreak\u001b[39;00m\n\u001b[1;32m    126\u001b[0m         level \u001b[38;5;241m+\u001b[39m\u001b[38;5;241m=\u001b[39m \u001b[38;5;241m1\u001b[39m\n\u001b[0;32m--> 127\u001b[0m \u001b[38;5;28;01mreturn\u001b[39;00m \u001b[43m_bootstrap\u001b[49m\u001b[38;5;241;43m.\u001b[39;49m\u001b[43m_gcd_import\u001b[49m\u001b[43m(\u001b[49m\u001b[43mname\u001b[49m\u001b[43m[\u001b[49m\u001b[43mlevel\u001b[49m\u001b[43m:\u001b[49m\u001b[43m]\u001b[49m\u001b[43m,\u001b[49m\u001b[43m \u001b[49m\u001b[43mpackage\u001b[49m\u001b[43m,\u001b[49m\u001b[43m \u001b[49m\u001b[43mlevel\u001b[49m\u001b[43m)\u001b[49m\n",
      "File \u001b[0;32m~/miniconda3/envs/tf/lib/python3.9/site-packages/cv2/__init__.py:181\u001b[0m, in \u001b[0;36m<module>\u001b[0;34m\u001b[0m\n\u001b[1;32m    176\u001b[0m             \u001b[38;5;28;01mif\u001b[39;00m DEBUG: \u001b[38;5;28mprint\u001b[39m(\u001b[38;5;124m\"\u001b[39m\u001b[38;5;124mExtra Python code for\u001b[39m\u001b[38;5;124m\"\u001b[39m, submodule, \u001b[38;5;124m\"\u001b[39m\u001b[38;5;124mis loaded\u001b[39m\u001b[38;5;124m\"\u001b[39m)\n\u001b[1;32m    178\u001b[0m     \u001b[38;5;28;01mif\u001b[39;00m DEBUG: \u001b[38;5;28mprint\u001b[39m(\u001b[38;5;124m'\u001b[39m\u001b[38;5;124mOpenCV loader: DONE\u001b[39m\u001b[38;5;124m'\u001b[39m)\n\u001b[0;32m--> 181\u001b[0m \u001b[43mbootstrap\u001b[49m\u001b[43m(\u001b[49m\u001b[43m)\u001b[49m\n",
      "File \u001b[0;32m~/miniconda3/envs/tf/lib/python3.9/site-packages/cv2/__init__.py:76\u001b[0m, in \u001b[0;36mbootstrap\u001b[0;34m()\u001b[0m\n\u001b[1;32m     74\u001b[0m \u001b[38;5;28;01mif\u001b[39;00m \u001b[38;5;28mhasattr\u001b[39m(sys, \u001b[38;5;124m'\u001b[39m\u001b[38;5;124mOpenCV_LOADER\u001b[39m\u001b[38;5;124m'\u001b[39m):\n\u001b[1;32m     75\u001b[0m     \u001b[38;5;28mprint\u001b[39m(sys\u001b[38;5;241m.\u001b[39mpath)\n\u001b[0;32m---> 76\u001b[0m     \u001b[38;5;28;01mraise\u001b[39;00m \u001b[38;5;167;01mImportError\u001b[39;00m(\u001b[38;5;124m'\u001b[39m\u001b[38;5;124mERROR: recursion is detected during loading of \u001b[39m\u001b[38;5;124m\"\u001b[39m\u001b[38;5;124mcv2\u001b[39m\u001b[38;5;124m\"\u001b[39m\u001b[38;5;124m binary extensions. Check OpenCV installation.\u001b[39m\u001b[38;5;124m'\u001b[39m)\n\u001b[1;32m     77\u001b[0m sys\u001b[38;5;241m.\u001b[39mOpenCV_LOADER \u001b[38;5;241m=\u001b[39m \u001b[38;5;28;01mTrue\u001b[39;00m\n\u001b[1;32m     79\u001b[0m DEBUG \u001b[38;5;241m=\u001b[39m \u001b[38;5;28;01mFalse\u001b[39;00m\n",
      "\u001b[0;31mImportError\u001b[0m: ERROR: recursion is detected during loading of \"cv2\" binary extensions. Check OpenCV installation."
     ]
    }
   ],
   "source": [
    "import imageio\n",
    "import sys\n",
    "sys.path.append(\"/home/dshteinbok/denoising_experiments/\")\n",
    "import denoising\n",
    "test_img = imageio.imread('../data/nV3_mastermat_probe_unshifted/100.png')"
   ]
  },
  {
   "cell_type": "code",
   "execution_count": 4,
   "id": "44ed7f2a",
   "metadata": {},
   "outputs": [
    {
     "data": {
      "text/plain": [
       "<tensorflow.python.checkpoint.checkpoint.CheckpointLoadStatus at 0x7fd8d000b520>"
      ]
     },
     "execution_count": 4,
     "metadata": {},
     "output_type": "execute_result"
    }
   ],
   "source": [
    "model.load_weights(\"saved_models/multiwiener_nV3_probe_noisy2/model_weights\")"
   ]
  },
  {
   "cell_type": "code",
   "execution_count": 8,
   "id": "90ab6557",
   "metadata": {},
   "outputs": [
    {
     "name": "stdout",
     "output_type": "stream",
     "text": [
      "--Return--\n",
      "None\n",
      "> \u001b[0;32m/tmp/ipykernel_181682/2284416396.py\u001b[0m(1)\u001b[0;36m<cell line: 1>\u001b[0;34m()\u001b[0m\n",
      "\u001b[0;32m----> 1 \u001b[0;31m\u001b[0mset_trace\u001b[0m\u001b[0;34m(\u001b[0m\u001b[0;34m)\u001b[0m\u001b[0;34m\u001b[0m\u001b[0;34m\u001b[0m\u001b[0m\n",
      "\u001b[0m\u001b[0;32m      2 \u001b[0;31m\u001b[0mmodel\u001b[0m\u001b[0;34m(\u001b[0m\u001b[0mdenoising\u001b[0m\u001b[0;34m.\u001b[0m\u001b[0mrescale_to_one\u001b[0m\u001b[0;34m(\u001b[0m\u001b[0mtest_img\u001b[0m\u001b[0;34m)\u001b[0m\u001b[0;34m.\u001b[0m\u001b[0mreshape\u001b[0m\u001b[0;34m(\u001b[0m\u001b[0;34m(\u001b[0m\u001b[0;36m1\u001b[0m\u001b[0;34m,\u001b[0m \u001b[0;36m800\u001b[0m\u001b[0;34m,\u001b[0m \u001b[0;36m1280\u001b[0m\u001b[0;34m,\u001b[0m \u001b[0;36m1\u001b[0m\u001b[0;34m)\u001b[0m\u001b[0;34m)\u001b[0m\u001b[0;34m)\u001b[0m\u001b[0;34m\u001b[0m\u001b[0;34m\u001b[0m\u001b[0m\n",
      "\u001b[0m\n",
      "ipdb> b 2\n",
      "Breakpoint 2 at /tmp/ipykernel_181682/2284416396.py:2\n",
      "ipdb> c\n",
      "\u001b[0;31m    [... skipped 1 hidden frame]\u001b[0m\n",
      "\n",
      "\u001b[0;31m    [... skipped 1 hidden frame]\u001b[0m\n",
      "\n",
      "\u001b[0;31m    [... skipped 1 hidden frame]\u001b[0m\n",
      "\n",
      "\u001b[0;31m    [... skipped 1 hidden frame]\u001b[0m\n",
      "\n",
      "None\n",
      "> \u001b[0;32m/tmp/ipykernel_181682/2284416396.py\u001b[0m(2)\u001b[0;36m<cell line: 2>\u001b[0;34m()\u001b[0m\n",
      "\u001b[0;32m      1 \u001b[0;31m\u001b[0mset_trace\u001b[0m\u001b[0;34m(\u001b[0m\u001b[0;34m)\u001b[0m\u001b[0;34m\u001b[0m\u001b[0;34m\u001b[0m\u001b[0m\n",
      "\u001b[0m\u001b[1;31m2\u001b[0;32m---> 2 \u001b[0;31m\u001b[0mmodel\u001b[0m\u001b[0;34m(\u001b[0m\u001b[0mdenoising\u001b[0m\u001b[0;34m.\u001b[0m\u001b[0mrescale_to_one\u001b[0m\u001b[0;34m(\u001b[0m\u001b[0mtest_img\u001b[0m\u001b[0;34m)\u001b[0m\u001b[0;34m.\u001b[0m\u001b[0mreshape\u001b[0m\u001b[0;34m(\u001b[0m\u001b[0;34m(\u001b[0m\u001b[0;36m1\u001b[0m\u001b[0;34m,\u001b[0m \u001b[0;36m800\u001b[0m\u001b[0;34m,\u001b[0m \u001b[0;36m1280\u001b[0m\u001b[0;34m,\u001b[0m \u001b[0;36m1\u001b[0m\u001b[0;34m)\u001b[0m\u001b[0;34m)\u001b[0m\u001b[0;34m)\u001b[0m\u001b[0;34m\u001b[0m\u001b[0;34m\u001b[0m\u001b[0m\n",
      "\u001b[0m\n",
      "ipdb> s\n",
      "NameError: name 'denoising' is not defined\n",
      "None\n",
      "> \u001b[0;32m/tmp/ipykernel_181682/2284416396.py\u001b[0m(2)\u001b[0;36m<cell line: 2>\u001b[0;34m()\u001b[0m\n",
      "\u001b[0;32m      1 \u001b[0;31m\u001b[0mset_trace\u001b[0m\u001b[0;34m(\u001b[0m\u001b[0;34m)\u001b[0m\u001b[0;34m\u001b[0m\u001b[0;34m\u001b[0m\u001b[0m\n",
      "\u001b[0m\u001b[1;31m2\u001b[0;32m---> 2 \u001b[0;31m\u001b[0mmodel\u001b[0m\u001b[0;34m(\u001b[0m\u001b[0mdenoising\u001b[0m\u001b[0;34m.\u001b[0m\u001b[0mrescale_to_one\u001b[0m\u001b[0;34m(\u001b[0m\u001b[0mtest_img\u001b[0m\u001b[0;34m)\u001b[0m\u001b[0;34m.\u001b[0m\u001b[0mreshape\u001b[0m\u001b[0;34m(\u001b[0m\u001b[0;34m(\u001b[0m\u001b[0;36m1\u001b[0m\u001b[0;34m,\u001b[0m \u001b[0;36m800\u001b[0m\u001b[0;34m,\u001b[0m \u001b[0;36m1280\u001b[0m\u001b[0;34m,\u001b[0m \u001b[0;36m1\u001b[0m\u001b[0;34m)\u001b[0m\u001b[0;34m)\u001b[0m\u001b[0;34m)\u001b[0m\u001b[0;34m\u001b[0m\u001b[0;34m\u001b[0m\u001b[0m\n",
      "\u001b[0m\n",
      "ipdb> q\n"
     ]
    }
   ],
   "source": [
    "set_trace()\n",
    "model(denoising.rescale_to_one(test_img).reshape((1, 800, 1280, 1)))"
   ]
  },
  {
   "cell_type": "markdown",
   "id": "04d25410",
   "metadata": {},
   "source": [
    "due to weird errors above, I just went ahead and did the same inside `Complete image processing.ipynb`. From that, I draw the following conclusions:\n",
    "1. padding at layers.py:32 is  `((0, 0), (400, 400), (640, 640), (0, 0))`\n",
    "2. `padding_psf` at layers.py:48 is `((400, 400), (640, 640), (0, 0))`\n",
    "3. h = 1600, w = 2560, h1 = 400, h2 = 1200, w1 = 640, w2 = 1920 in `crop_2d_tf` as called from `layers.py:61`. This is in accordance with what I expected.\n",
    "Nonetheless, we see ringing at the edge of the image. Not quite sure why..."
   ]
  },
  {
   "cell_type": "markdown",
   "id": "25bed4a5",
   "metadata": {},
   "source": [
    "I noticed the ringing at the edge of the image is absent in the test images from Laura Waller. However, it is present in the case of the bandpass-filtered cell images. I suspect this is because the images I was looking at from Laura Waller have a zero-valued background, so the zero padding does not cause a discontinuity at the edge of the padded image. On the contrary, the bandpassed neuron images have a nonzero background throughout, and so the zero-padding would cause a jump \"discontinuity\". When Fourier-transforming and then inverse-Fourier-transforming, we would end up with Gibbs ringing at the edges. When multiplying with a spatial frequency in the Fourier domain (causing a shift in the image domain, e.g. to the top left), this ringing is shifted up to the top-left as well.\n",
    "\n",
    "The theory that this is caused by the non-zero background is supported by slide 211: the 70th frame of the cell video. Here, you can see that the ringing is absent at the edge where the background is dark. You can also see the bottom of the \"ringing\" is darker; this is the other side of the Gibbs phenomenon (on the lower side of the jump) which has been shifted up."
   ]
  },
  {
   "cell_type": "markdown",
   "id": "aa470743",
   "metadata": {},
   "source": [
    "The problem is that this doesn't explain the shift variance of the neural network acting on the image. That is the bigger problem!"
   ]
  },
  {
   "cell_type": "markdown",
   "id": "ae427a76",
   "metadata": {},
   "source": [
    "Playing around with the neural network, I actually came up with a hypothesis for the shift-variance:\n",
    "* it's a consequence of the U-net, not the MultiWienerNet\n",
    "    * This is supported by the fact that, having zoomed in on part of the image that wouldn't be affected by the differences at the edge (i.e. proximity of the ROI to zero-padding), the image post-multiwiener-layer seems almost the same regardless of whether it was shifted or not before application of the NN.\n",
    "* it's a consequence of proximity to the edges (the center of a shifted and unshifted image through the whole NN looks almost the same)\n",
    "* it happens in the later layers of the U-net (since the top left part, which would be placed right next to zero-padding in the unshifted image, looks different from the same feature in the shifted image, which is again next to a bunch of zeros)."
   ]
  }
 ],
 "metadata": {
  "kernelspec": {
   "display_name": "Python 3 (ipykernel)",
   "language": "python",
   "name": "python3"
  },
  "language_info": {
   "codemirror_mode": {
    "name": "ipython",
    "version": 3
   },
   "file_extension": ".py",
   "mimetype": "text/x-python",
   "name": "python",
   "nbconvert_exporter": "python",
   "pygments_lexer": "ipython3",
   "version": "3.9.13"
  }
 },
 "nbformat": 4,
 "nbformat_minor": 5
}
